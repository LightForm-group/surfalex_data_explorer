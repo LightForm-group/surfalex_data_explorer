{
 "cells": [
  {
   "cell_type": "markdown",
   "metadata": {},
   "source": [
    "# Analysis of DIC data from tensile testing\n",
    "\n",
    "## Import libraries"
   ]
  },
  {
   "cell_type": "code",
   "execution_count": null,
   "metadata": {},
   "outputs": [],
   "source": [
    "import numpy as np\n",
    "import matplotlib.pyplot as plt\n",
    "from ipywidgets import interact, interactive, fixed\n",
    "import ipywidgets as widgets\n",
    "from tqdm.notebook import tqdm\n",
    "from dic_analysis import Deformation_map\n",
    "\n",
    "%matplotlib notebook "
   ]
  },
  {
   "cell_type": "markdown",
   "metadata": {},
   "source": [
    "## Analysis set up\n",
    "Change the data location and number of files to load here."
   ]
  },
  {
   "cell_type": "code",
   "execution_count": null,
   "metadata": {},
   "outputs": [],
   "source": [
    "data_folder = \"../Data/test 0-1/displacement data\"\n",
    "num_files_to_load = 122"
   ]
  },
  {
   "cell_type": "markdown",
   "metadata": {},
   "source": [
    "Load data from files"
   ]
  },
  {
   "cell_type": "code",
   "execution_count": null,
   "metadata": {},
   "outputs": [],
   "source": [
    "# Load data from files\n",
    "f_list=[]\n",
    "for file_number in tqdm(range(1, num_files_to_load + 1)):\n",
    "    fname = f'data_{file_number:03}.csv'\n",
    "    defmap = Deformation_map(data_folder, fname)\n",
    "    f_list.append(defmap)"
   ]
  },
  {
   "cell_type": "markdown",
   "metadata": {},
   "source": [
    "## Plotting strain maps\n",
    "\n",
    "This cell allows the visualisation of individual strain maps."
   ]
  },
  {
   "cell_type": "code",
   "execution_count": null,
   "metadata": {},
   "outputs": [],
   "source": [
    "timestep = 100\n",
    "\n",
    "plt.figure()\n",
    "plt.imshow(f_list[timestep].f22, vmin=0, vmax=0.4, cmap='viridis', interpolation='none')\n",
    "plt.colorbar()\n",
    "plt.title(f\"Strain map at timestep {timestep}\", pad=10)\n",
    "plt.show()\n",
    "plt.savefig(\"../results/strain_map_t_{timestep}.png\")"
   ]
  },
  {
   "cell_type": "markdown",
   "metadata": {},
   "source": [
    "Scan through the strain maps over time. This function takes an average of 3 maps, as well as the one selected it is an average of the map before and the map after"
   ]
  },
  {
   "cell_type": "code",
   "execution_count": null,
   "metadata": {},
   "outputs": [],
   "source": [
    "interactive(scrubF_single, measurement=(0, np.size(f_list) - 2, 1), fig=fixed(fig1), f_list=f_list)"
   ]
  },
  {
   "cell_type": "markdown",
   "metadata": {},
   "source": [
    "## Plotting shape change of sample"
   ]
  },
  {
   "cell_type": "code",
   "execution_count": null,
   "metadata": {},
   "outputs": [],
   "source": [
    "timestep = 100\n",
    "\n",
    "defmap=f_list[100]\n",
    "rho=-defmap.f11/defmap.f22\n",
    "# rho is the shape change -deyy/dexx\n",
    "plt.imshow(rho)\n",
    "plt.show()"
   ]
  },
  {
   "cell_type": "markdown",
   "metadata": {},
   "source": [
    "## Plotting sample strain over time"
   ]
  },
  {
   "cell_type": "code",
   "execution_count": null,
   "metadata": {
    "scrolled": true
   },
   "outputs": [],
   "source": [
    "strain_list=[]\n",
    "for def_map in f_list:\n",
    "    cropped_map=def_map.f22[10:24,1:12]\n",
    "    \n",
    "    strain_list.append(np.mean(cropped_map))\n",
    "\n",
    "plt.figure()\n",
    "plt.plot(strain_list)\n",
    "plt.xlabel(\"Time step\")\n",
    "plt.ylabel(\"Strain\")\n",
    "plt.show()"
   ]
  },
  {
   "cell_type": "markdown",
   "metadata": {},
   "source": [
    "## Plotting True strain over time"
   ]
  },
  {
   "cell_type": "code",
   "execution_count": null,
   "metadata": {},
   "outputs": [],
   "source": [
    "plt.figure()\n",
    "plt.plot(np.log(1 + np.array(strain_list)))\n",
    "plt.xlabel(\"Time step\")\n",
    "plt.ylabel(\"True Strain\")\n",
    "plt.show()"
   ]
  },
  {
   "cell_type": "markdown",
   "metadata": {},
   "source": [
    "## Plotting ?? Over time"
   ]
  },
  {
   "cell_type": "code",
   "execution_count": null,
   "metadata": {},
   "outputs": [],
   "source": [
    "trans_list=[]\n",
    "for def_map in f_list:\n",
    "    cropped_map=def_map.f11[10:24,1:12]\n",
    "    \n",
    "    trans_list.append(np.mean(cropped_map))\n",
    "    \n",
    "plt.figure()\n",
    "plt.plot(trans_list)\n",
    "plt.plot(strain_list)\n",
    "plt.xlabel('Data Point')\n",
    "plt.ylabel('Strain')\n",
    "plt.show()"
   ]
  },
  {
   "cell_type": "markdown",
   "metadata": {},
   "source": [
    "## Plotting ??"
   ]
  },
  {
   "cell_type": "code",
   "execution_count": null,
   "metadata": {},
   "outputs": [],
   "source": [
    "strain_ratio = - np.array(trans_list) / np.array(strain_list)\n",
    "plt.figure()\n",
    "plt.plot(strain_list[20:], strain_ratio[20:])\n",
    "plt.show()"
   ]
  },
  {
   "cell_type": "markdown",
   "metadata": {},
   "source": [
    "## Plotting ??"
   ]
  },
  {
   "cell_type": "code",
   "execution_count": null,
   "metadata": {},
   "outputs": [],
   "source": [
    "Lankford = strain_ratio / (1 - strain_ratio)\n",
    "plt.figure()\n",
    "plt.plot(strain_list[100:], Lankford[100:])\n",
    "plt.show()"
   ]
  },
  {
   "cell_type": "markdown",
   "metadata": {},
   "source": [
    "## Plotting Measured strain data"
   ]
  },
  {
   "cell_type": "code",
   "execution_count": null,
   "metadata": {},
   "outputs": [],
   "source": [
    "test_names = [\"0-1\", \"0-2\", \"30-1\", \"30-2\", \"45-1\", \"45-2\", \"60-1\", \"60-2\", \"90-1\", \"90-2\"]\n",
    "\n",
    "plt.figure()\n",
    "\n",
    "for name in test_names:\n",
    "    voltage_data = np.loadtxt(f\"../Data/test {name}/voltage data/data_1.csv\", delimiter=\",\", skiprows=2, usecols=(4, 15))\n",
    "    \n",
    "    # Cut off data when it begins dropping at the end of the experiment\n",
    "    data_limit = voltage_data.shape[0]\n",
    "    for i in range(0, data_limit - 50):\n",
    "        if voltage_data[i, 1] > voltage_data[i + 50, 1]:\n",
    "            data_limit = i + 50\n",
    "            break\n",
    "            \n",
    "    # Plot the data\n",
    "    plt.plot(voltage_data[:data_limit , 0], voltage_data[:data_limit, 1], \"x-\", label=name)\n",
    "    plt.xlabel(\"True Strain\")\n",
    "    plt.ylabel(\"True Stress (MPa)\")\n",
    "    plt.legend()\n",
    "plt.show()"
   ]
  }
 ],
 "metadata": {
  "kernelspec": {
   "display_name": "Python 3",
   "language": "python",
   "name": "python3"
  },
  "language_info": {
   "codemirror_mode": {
    "name": "ipython",
    "version": 3
   },
   "file_extension": ".py",
   "mimetype": "text/x-python",
   "name": "python",
   "nbconvert_exporter": "python",
   "pygments_lexer": "ipython3",
   "version": "3.7.2"
  }
 },
 "nbformat": 4,
 "nbformat_minor": 2
}
