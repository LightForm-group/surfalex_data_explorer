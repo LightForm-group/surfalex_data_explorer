{
 "cells": [
  {
   "cell_type": "markdown",
   "metadata": {},
   "source": [
    "# Analysis of DIC data from tensile testing\n",
    "\n",
    "## Import libraries"
   ]
  },
  {
   "cell_type": "code",
   "execution_count": null,
   "metadata": {},
   "outputs": [],
   "source": [
    "import glob\n",
    "\n",
    "import numpy as np\n",
    "import matplotlib.pyplot as plt\n",
    "from tqdm.notebook import tqdm\n",
    "from ipywidgets import interact, fixed, IntSlider, FloatSlider\n",
    "from dic_analysis import DeformationMap\n",
    "\n",
    "%matplotlib inline \n",
    "%load_ext autoreload\n",
    "%autoreload 2"
   ]
  },
  {
   "cell_type": "markdown",
   "metadata": {},
   "source": [
    "## Analysis set up\n",
    "Change the data location and number of files to load here."
   ]
  },
  {
   "cell_type": "code",
   "execution_count": null,
   "metadata": {},
   "outputs": [],
   "source": [
    "data_folder = \"../Data/test 0-1/displacement data/\""
   ]
  },
  {
   "cell_type": "markdown",
   "metadata": {},
   "source": [
    "Load data from files"
   ]
  },
  {
   "cell_type": "code",
   "execution_count": null,
   "metadata": {},
   "outputs": [],
   "source": [
    "# Load data from files\n",
    "file_list = glob.glob(f\"{data_folder}*\")\n",
    "deformation_maps = [DeformationMap(file_path) for file_path in tqdm(file_list)]"
   ]
  },
  {
   "cell_type": "markdown",
   "metadata": {},
   "source": [
    "## Plotting strain maps\n",
    "\n",
    "This cell allows scanning through the strain maps over time. This can be used to determine which timesteps are interesting to output."
   ]
  },
  {
   "cell_type": "code",
   "execution_count": null,
   "metadata": {
    "scrolled": true
   },
   "outputs": [],
   "source": [
    "def scrub_strain(measurement: int, maps):\n",
    "    plt.imshow(maps[measurement].f22)\n",
    "    plt.colorbar()\n",
    "\n",
    "interact(scrub_strain, \n",
    "         measurement=IntSlider(min=1, max=np.size(deformation_maps) - 1, step=1, continuous_update=False),\n",
    "         fig=fixed(plt.figure()), maps=fixed(deformation_maps), continuous_update=False)"
   ]
  },
  {
   "cell_type": "markdown",
   "metadata": {},
   "source": [
    "Once the interesting maps have been identified, this cell allows saving any interesting strain maps to file."
   ]
  },
  {
   "cell_type": "code",
   "execution_count": null,
   "metadata": {},
   "outputs": [],
   "source": [
    "timesteps = [10, 50]\n",
    "\n",
    "for step in timesteps:\n",
    "    fig = plt.figure()\n",
    "\n",
    "    # Display the image\n",
    "    plt.imshow(deformation_maps[step].f22, cmap='viridis', interpolation='none')\n",
    "\n",
    "    # Turn off axes and set axes limits\n",
    "    plt.title(f\"Strain map at timestep {step}\", pad=10)\n",
    "    plt.colorbar()\n",
    "    fig.savefig(f\"../results/strain_map_t_{step}.png\", bbox_inches =\"tight\", dpi=200)\n",
    "    plt.close()\n",
    "print(f\"Timesteps {timesteps} written to file.\")"
   ]
  },
  {
   "cell_type": "markdown",
   "metadata": {},
   "source": [
    "## Plotting shape change of sample\n",
    "\n",
    "rho is the shape change -deyy/dexx\n",
    "\n",
    "As before the first cell allows scrubbing through the dataset and the next cell allows saving of interesting timesteps."
   ]
  },
  {
   "cell_type": "code",
   "execution_count": null,
   "metadata": {},
   "outputs": [],
   "source": [
    "def scrub_rho(measurement: int, maps):\n",
    "    rho = -maps[measurement].f11 / maps[measurement].f22\n",
    "    plt.imshow(rho)\n",
    "    plt.colorbar()\n",
    "\n",
    "interact(scrub_rho, \n",
    "         measurement=IntSlider(min=1, max=np.size(deformation_maps) - 1, step=1, continuous_update=False),\n",
    "         fig=fixed(plt.figure()), maps=fixed(deformation_maps), continuous_update=False)"
   ]
  },
  {
   "cell_type": "code",
   "execution_count": null,
   "metadata": {},
   "outputs": [],
   "source": [
    "timesteps = [10, 50]\n",
    "\n",
    "for step in timesteps:\n",
    "    fig = plt.figure()\n",
    "    def_map = deformation_maps[step]\n",
    "    rho = -def_map.f11 / def_map.f22\n",
    "\n",
    "    plt.imshow(rho, cmap='viridis', interpolation='none')\n",
    "    plt.title(f\"Shape change of sample at timestep {step}\", pad=10)\n",
    "    plt.colorbar()\n",
    "    plt.savefig(f\"../results/shape_change_t_{step}.png\", bbox_inches =\"tight\", dpi=200)\n",
    "    plt.close()\n",
    "\n",
    "print(f\"Timesteps {timesteps} written to file.\")"
   ]
  },
  {
   "cell_type": "markdown",
   "metadata": {},
   "source": [
    "## Plotting sample strain/true strain over time"
   ]
  },
  {
   "cell_type": "code",
   "execution_count": null,
   "metadata": {
    "scrolled": true
   },
   "outputs": [],
   "source": [
    "strain_list = []\n",
    "for def_map in deformation_maps:\n",
    "    cropped_map = def_map.f22[10:24, 1:12]\n",
    "    strain_list.append(np.mean(cropped_map))\n",
    "strain_list = np.array(strain_list)\n",
    "    \n",
    "plt.figure()\n",
    "plt.plot(strain_list, label=\"strain\")\n",
    "plt.plot(np.log(1 + np.array(strain_list)), label=\"true strain\")\n",
    "plt.xlabel(\"Time step\")\n",
    "plt.ylabel(\"Strain\")\n",
    "plt.legend()\n",
    "plt.show()"
   ]
  },
  {
   "cell_type": "markdown",
   "metadata": {},
   "source": [
    "## Plotting ?? Over time"
   ]
  },
  {
   "cell_type": "code",
   "execution_count": null,
   "metadata": {},
   "outputs": [],
   "source": [
    "trans_list = []\n",
    "for def_map in deformation_maps:\n",
    "    cropped_map = def_map.f11[10:24,1:12]\n",
    "    \n",
    "    trans_list.append(np.mean(cropped_map))\n",
    "    \n",
    "plt.figure()\n",
    "plt.plot(trans_list)\n",
    "plt.plot(strain_list)\n",
    "plt.xlabel('Data Point')\n",
    "plt.ylabel('Strain')\n",
    "plt.savefig(f\"../results/strain.png\", bbox_inches =\"tight\", dpi=200)"
   ]
  },
  {
   "cell_type": "markdown",
   "metadata": {},
   "source": [
    "## Plotting Strain ratio and Lankford Parameter\n",
    "\n",
    "We crop the data at a max and min strain to avoid noisy data points"
   ]
  },
  {
   "cell_type": "code",
   "execution_count": null,
   "metadata": {},
   "outputs": [],
   "source": [
    "strain_ratio = - np.array(trans_list) / np.array(strain_list)\n",
    "Lankford = strain_ratio / (1 - strain_ratio)\n",
    "plt.figure()\n",
    "min_strain = 0.02\n",
    "max_strain = 0.29\n",
    "mask = np.logical_and(min_strain < strain_list, strain_list < max_strain)\n",
    "plt.plot(strain_list[mask], strain_ratio[mask])\n",
    "plt.xlabel(\"strain\")\n",
    "plt.ylabel(\"strain ratio\")\n",
    "plt.savefig(f\"../results/strain_ratio.png\", bbox_inches =\"tight\", dpi=200)"
   ]
  },
  {
   "cell_type": "markdown",
   "metadata": {},
   "source": [
    "## Plotting Lankford parameter\n",
    "As above we cut the data at a minimum and maximum strain to reduce noise."
   ]
  },
  {
   "cell_type": "code",
   "execution_count": null,
   "metadata": {},
   "outputs": [],
   "source": [
    "plt.figure()\n",
    "plt.plot(strain_list[mask], Lankford[mask])\n",
    "plt.xlabel(\"strain\")\n",
    "plt.ylabel(\"Lankford parameter\")\n",
    "plt.savefig(f\"../results/lankford_parameter.png\", bbox_inches =\"tight\", dpi=200)"
   ]
  },
  {
   "cell_type": "markdown",
   "metadata": {},
   "source": [
    "## Plotting Measured strain data"
   ]
  },
  {
   "cell_type": "code",
   "execution_count": null,
   "metadata": {},
   "outputs": [],
   "source": [
    "test_names = [\"0-1\", \"0-2\", \"30-1\", \"30-2\", \"45-1\", \"45-2\", \"60-1\", \"60-2\", \"90-1\", \"90-2\"]\n",
    "\n",
    "plt.figure()\n",
    "\n",
    "for name in test_names:\n",
    "    voltage_data = np.loadtxt(f\"../Data/test {name}/voltage data/data_1.csv\", delimiter=\",\", skiprows=2, usecols=(4, 15))\n",
    "    \n",
    "    # Cut off data when it begins dropping at the end of the experiment\n",
    "    data_limit = voltage_data.shape[0]\n",
    "    for i in range(0, data_limit - 50):\n",
    "        if voltage_data[i, 1] > voltage_data[i + 50, 1]:\n",
    "            data_limit = i + 50\n",
    "            break\n",
    "            \n",
    "    # Plot the data\n",
    "    plt.plot(voltage_data[:data_limit , 0], voltage_data[:data_limit, 1], \"x-\", label=name)\n",
    "    plt.xlabel(\"True Strain\")\n",
    "    plt.ylabel(\"True Stress (MPa)\")\n",
    "    plt.legend()\n",
    "plt.show()"
   ]
  }
 ],
 "metadata": {
  "kernelspec": {
   "display_name": "Python 3",
   "language": "python",
   "name": "python3"
  },
  "language_info": {
   "codemirror_mode": {
    "name": "ipython",
    "version": 3
   },
   "file_extension": ".py",
   "mimetype": "text/x-python",
   "name": "python",
   "nbconvert_exporter": "python",
   "pygments_lexer": "ipython3",
   "version": "3.7.2"
  }
 },
 "nbformat": 4,
 "nbformat_minor": 2
}
