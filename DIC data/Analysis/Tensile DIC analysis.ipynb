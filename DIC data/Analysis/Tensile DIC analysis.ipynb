{
 "cells": [
  {
   "cell_type": "markdown",
   "metadata": {},
   "source": [
    "# Analysis of DIC data from tensile testing\n",
    "\n",
    "## Import libraries"
   ]
  },
  {
   "cell_type": "code",
   "execution_count": null,
   "metadata": {},
   "outputs": [],
   "source": [
    "import glob\n",
    "\n",
    "import numpy as np\n",
    "import matplotlib.pyplot as plt\n",
    "from tqdm.notebook import tqdm\n",
    "from ipywidgets import interactive, fixed\n",
    "from dic_analysis import DeformationMap, scrub_frames\n",
    "\n",
    "%matplotlib inline \n",
    "%load_ext autoreload\n",
    "%autoreload 2"
   ]
  },
  {
   "cell_type": "markdown",
   "metadata": {},
   "source": [
    "## Analysis set up\n",
    "Change the data location and number of files to load here."
   ]
  },
  {
   "cell_type": "code",
   "execution_count": null,
   "metadata": {},
   "outputs": [],
   "source": [
    "data_folder = \"../Data/test 0-1/displacement data/\""
   ]
  },
  {
   "cell_type": "markdown",
   "metadata": {},
   "source": [
    "Load data from files"
   ]
  },
  {
   "cell_type": "code",
   "execution_count": null,
   "metadata": {},
   "outputs": [],
   "source": [
    "# Load data from files\n",
    "file_list = glob.glob(f\"{data_folder}*\")\n",
    "deformation_maps = [DeformationMap(file_list[file_path]) for file_path in range(0, 20)]"
   ]
  },
  {
   "cell_type": "markdown",
   "metadata": {},
   "source": [
    "## Plotting strain maps\n",
    "\n",
    "This cell allows the visualisation of individual strain maps."
   ]
  },
  {
   "cell_type": "code",
   "execution_count": null,
   "metadata": {},
   "outputs": [],
   "source": [
    "timestep = 10\n",
    "\n",
    "plt.figure()\n",
    "plt.imshow(deformation_maps[timestep].f22, vmin=0, vmax=0.4, cmap='viridis', interpolation='none')\n",
    "plt.colorbar()\n",
    "plt.title(f\"Strain map at timestep {timestep}\", pad=10)\n",
    "plt.show()\n",
    "#plt.savefig(\"../results/strain_map_t_{timestep}.png\")"
   ]
  },
  {
   "cell_type": "markdown",
   "metadata": {},
   "source": [
    "This cell is the same but allows scanning through the strain maps over time. The average argument specifies how many\n",
    "adjacent frames to average - this can smooth the data if necessary."
   ]
  },
  {
   "cell_type": "code",
   "execution_count": null,
   "metadata": {
    "scrolled": true
   },
   "outputs": [],
   "source": [
    "figure = plt.figure()\n",
    "interactive(scrub_frames, measurement=(0, np.size(deformation_maps) - 2, 1), fig=fixed(figure), \n",
    "            f_list=fixed(deformation_maps), continuous_update=False)"
   ]
  },
  {
   "cell_type": "markdown",
   "metadata": {},
   "source": [
    "## Plotting shape change of sample"
   ]
  },
  {
   "cell_type": "code",
   "execution_count": null,
   "metadata": {},
   "outputs": [],
   "source": [
    "timestep = 10\n",
    "\n",
    "defmap = deformation_maps[timestep]\n",
    "rho = -defmap.f11 / defmap.f22\n",
    "# rho is the shape change -deyy/dexx\n",
    "plt.imshow(rho)\n",
    "plt.show()"
   ]
  },
  {
   "cell_type": "markdown",
   "metadata": {},
   "source": [
    "## Plotting sample strain over time"
   ]
  },
  {
   "cell_type": "code",
   "execution_count": null,
   "metadata": {
    "scrolled": true
   },
   "outputs": [],
   "source": [
    "strain_list = []\n",
    "for def_map in deformation_maps:\n",
    "    cropped_map = def_map.f22[10:24, 1:12]\n",
    "    \n",
    "    strain_list.append(np.mean(cropped_map))\n",
    "\n",
    "plt.figure()\n",
    "plt.plot(strain_list)\n",
    "plt.xlabel(\"Time step\")\n",
    "plt.ylabel(\"Strain\")\n",
    "plt.show()"
   ]
  },
  {
   "cell_type": "markdown",
   "metadata": {},
   "source": [
    "## Plotting True strain over time"
   ]
  },
  {
   "cell_type": "code",
   "execution_count": null,
   "metadata": {},
   "outputs": [],
   "source": [
    "plt.figure()\n",
    "plt.plot(np.log(1 + np.array(strain_list)))\n",
    "plt.xlabel(\"Time step\")\n",
    "plt.ylabel(\"True Strain\")\n",
    "plt.show()"
   ]
  },
  {
   "cell_type": "markdown",
   "metadata": {},
   "source": [
    "## Plotting ?? Over time"
   ]
  },
  {
   "cell_type": "code",
   "execution_count": null,
   "metadata": {},
   "outputs": [],
   "source": [
    "trans_list = []\n",
    "for def_map in deformation_maps:\n",
    "    cropped_map = def_map.f11[10:24,1:12]\n",
    "    \n",
    "    trans_list.append(np.mean(cropped_map))\n",
    "    \n",
    "plt.figure()\n",
    "plt.plot(trans_list)\n",
    "plt.plot(strain_list)\n",
    "plt.xlabel('Data Point')\n",
    "plt.ylabel('Strain')\n",
    "plt.show()"
   ]
  },
  {
   "cell_type": "markdown",
   "metadata": {},
   "source": [
    "## Plotting ??"
   ]
  },
  {
   "cell_type": "code",
   "execution_count": null,
   "metadata": {},
   "outputs": [],
   "source": [
    "strain_ratio = - np.array(trans_list) / np.array(strain_list)\n",
    "plt.figure()\n",
    "plt.plot(strain_list[20:], strain_ratio[20:])\n",
    "plt.show()"
   ]
  },
  {
   "cell_type": "markdown",
   "metadata": {},
   "source": [
    "## Plotting ??"
   ]
  },
  {
   "cell_type": "code",
   "execution_count": null,
   "metadata": {},
   "outputs": [],
   "source": [
    "Lankford = strain_ratio / (1 - strain_ratio)\n",
    "plt.figure()\n",
    "plt.plot(strain_list[100:], Lankford[100:])\n",
    "plt.show()"
   ]
  },
  {
   "cell_type": "markdown",
   "metadata": {},
   "source": [
    "## Plotting Measured strain data"
   ]
  },
  {
   "cell_type": "code",
   "execution_count": null,
   "metadata": {},
   "outputs": [],
   "source": [
    "test_names = [\"0-1\", \"0-2\", \"30-1\", \"30-2\", \"45-1\", \"45-2\", \"60-1\", \"60-2\", \"90-1\", \"90-2\"]\n",
    "\n",
    "plt.figure()\n",
    "\n",
    "for name in test_names:\n",
    "    voltage_data = np.loadtxt(f\"../Data/test {name}/voltage data/data_1.csv\", delimiter=\",\", skiprows=2, usecols=(4, 15))\n",
    "    \n",
    "    # Cut off data when it begins dropping at the end of the experiment\n",
    "    data_limit = voltage_data.shape[0]\n",
    "    for i in range(0, data_limit - 50):\n",
    "        if voltage_data[i, 1] > voltage_data[i + 50, 1]:\n",
    "            data_limit = i + 50\n",
    "            break\n",
    "            \n",
    "    # Plot the data\n",
    "    plt.plot(voltage_data[:data_limit , 0], voltage_data[:data_limit, 1], \"x-\", label=name)\n",
    "    plt.xlabel(\"True Strain\")\n",
    "    plt.ylabel(\"True Stress (MPa)\")\n",
    "    plt.legend()\n",
    "plt.show()"
   ]
  }
 ],
 "metadata": {
  "kernelspec": {
   "display_name": "Python 3",
   "language": "python",
   "name": "python3"
  },
  "language_info": {
   "codemirror_mode": {
    "name": "ipython",
    "version": 3
   },
   "file_extension": ".py",
   "mimetype": "text/x-python",
   "name": "python",
   "nbconvert_exporter": "python",
   "pygments_lexer": "ipython3",
   "version": "3.7.2"
  }
 },
 "nbformat": 4,
 "nbformat_minor": 2
}
