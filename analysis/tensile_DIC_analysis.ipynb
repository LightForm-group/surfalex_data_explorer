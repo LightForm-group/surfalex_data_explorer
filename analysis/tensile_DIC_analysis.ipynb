{
 "cells": [
  {
   "cell_type": "markdown",
   "metadata": {},
   "source": [
    "# Analysis of DIC data from tensile testing\n",
    "\n",
    "## Import libraries"
   ]
  },
  {
   "cell_type": "code",
   "execution_count": 11,
   "metadata": {
    "pycharm": {
     "name": "#%%\n"
    }
   },
   "outputs": [],
   "source": [
    "import glob\n",
    "from pathlib import Path\n",
    "from typing import List, Dict\n",
    "\n",
    "import numpy as np\n",
    "import matplotlib.pyplot as plt\n",
    "from tqdm.notebook import tqdm\n",
    "from ipywidgets import interact, fixed, IntSlider, Dropdown, SelectMultiple, Checkbox\n",
    "from dic_analysis.dic import DeformationMap\n",
    "import dic_analysis.io\n",
    "\n",
    "import utilities"
   ]
  },
  {
   "cell_type": "markdown",
   "metadata": {},
   "source": [
    "# Download Data\n",
    "The experimental data (~100 MB) is downloaded to the `data` directory in the root of the repository."
   ]
  },
  {
   "cell_type": "code",
   "execution_count": 12,
   "metadata": {},
   "outputs": [
    {
     "name": "stdout",
     "output_type": "stream",
     "text": [
      "{'url': 'https://sandbox.zenodo.org/record/779690/files/tensile_tests.zip', 'md5': '26a03e24dcf4d055e0e9e79e0937036c', 'name': 'tensile_tests.zip'}\n",
      "MD5 validated. Download complete.\n",
      "Unzipping...complete.\n",
      "../data/tensile_tests\n"
     ]
    }
   ],
   "source": [
    "data_locations = utilities.read_data_yaml(\"../data/zenodo_URLs.yaml\")[\"tensile_tests\"]\n",
    "print(data_locations)\n",
    "\n",
    "data_folder = Path(\"../data/tensile_tests\")\n",
    "\n",
    "data_file = utilities.get_file_from_url(data_folder, **data_locations)\n",
    "utilities.unzip_file(data_file, data_folder)\n",
    "print(data_folder)"
   ]
  },
  {
   "cell_type": "markdown",
   "metadata": {},
   "source": [
    "## Analysis set up\n",
    "Change the data location and number of files to load here."
   ]
  },
  {
   "cell_type": "code",
   "execution_count": 13,
   "metadata": {
    "pycharm": {
     "name": "#%%\n"
    }
   },
   "outputs": [],
   "source": [
    "sample_angles = [\"0-1\"]#, \"0-2\", \"30-1\", \"30-2\", \"45-1\", \"45-2\", \"60-1\", \"60-2\", \"90-1\", \"90-2\"]\n",
    "# If max frame is None, it will load all maps from the data folder, if it is a number it will load that many.\n",
    "max_frame = None"
   ]
  },
  {
   "cell_type": "markdown",
   "metadata": {},
   "source": [
    "Load data from files"
   ]
  },
  {
   "cell_type": "code",
   "execution_count": 14,
   "metadata": {
    "pycharm": {
     "name": "#%%\n"
    }
   },
   "outputs": [
    {
     "data": {
      "application/vnd.jupyter.widget-view+json": {
       "model_id": "c49ac5deb73e435db4128ffef5549d02",
       "version_major": 2,
       "version_minor": 0
      },
      "text/plain": [
       "Sample angle:   0%|          | 0/1 [00:00<?, ?it/s]"
      ]
     },
     "metadata": {},
     "output_type": "display_data"
    },
    {
     "data": {
      "application/vnd.jupyter.widget-view+json": {
       "model_id": "",
       "version_major": 2,
       "version_minor": 0
      },
      "text/plain": [
       "File number:   0%|          | 0/223 [00:00<?, ?it/s]"
      ]
     },
     "metadata": {},
     "output_type": "display_data"
    }
   ],
   "source": [
    "# Load data from files and put maps into a dictionary labelled by sample angle.\n",
    "deformation_maps = {}\n",
    "\n",
    "for angle in tqdm(sample_angles, desc=\"Sample angle\"):\n",
    "    angle_folder = data_folder / f\"test {angle}/displacement data/\"\n",
    "    file_list = glob.glob(f\"{angle_folder}/*\")\n",
    "    file_list = np.sort(file_list)\n",
    "    if not max_frame:\n",
    "        deformation_maps[angle] = [DeformationMap(file_path, [0, 1, 2, 3]) for file_path in tqdm(file_list, leave=False, desc='File number')]\n",
    "    else:\n",
    "        deformation_maps[angle] = [DeformationMap(file_list[frame_num], [0, 1, 2, 3]) for\n",
    "                                   frame_num in tqdm(range(1, max_frame), leave=False, desc='File number')]"
   ]
  },
  {
   "cell_type": "code",
   "execution_count": 15,
   "metadata": {
    "pycharm": {
     "name": "#%%\n"
    }
   },
   "outputs": [],
   "source": [
    "# Set up folders for file output\n",
    "RESULTS_DIR = Path('../results/tensile_test_DIC')\n",
    "RESULTS_DIR.mkdir(exist_ok=True, parents=True)\n",
    "for angle in sample_angles:\n",
    "    directory = RESULTS_DIR / Path(f\"{angle}\")\n",
    "    directory.mkdir(exist_ok=True)"
   ]
  },
  {
   "cell_type": "markdown",
   "metadata": {},
   "source": [
    "## Plotting strain maps\n",
    "\n",
    "This cell allows scanning through the true strain maps over time. This can be used to determine which timesteps are interesting to output."
   ]
  },
  {
   "cell_type": "code",
   "execution_count": 16,
   "metadata": {
    "pycharm": {
     "name": "#%%\n"
    }
   },
   "outputs": [
    {
     "data": {
      "application/vnd.jupyter.widget-view+json": {
       "model_id": "cd53563bf30e4909b5c47fb5b7a8ae3a",
       "version_major": 2,
       "version_minor": 0
      },
      "text/plain": [
       "interactive(children=(Dropdown(description='experiment_name', options=('0-1',), value='0-1'), IntSlider(value=…"
      ]
     },
     "metadata": {},
     "output_type": "display_data"
    }
   ],
   "source": [
    "file_widget = Dropdown(options=sample_angles)\n",
    "timestep_widget = IntSlider(min=0, max=len(deformation_maps[sample_angles[0]]) - 1, step=1, continuous_update=False)\n",
    "\n",
    "def scrub_strain(experiment_name: str, time_step: int, deformation_maps: dict):\n",
    "    plt.imshow(np.log(deformation_maps[experiment_name][time_step].f22 + 1))\n",
    "    plt.colorbar()\n",
    "    plt.show()\n",
    "\n",
    "# Dynamically update the maximum value of the timestep value dependent on the number of images in the experiment.\n",
    "def update_timestep_range(*args):\n",
    "    timestep_widget.max = len(deformation_maps[file_widget.value]) - 1\n",
    "file_widget.observe(update_timestep_range, 'value')\n",
    "\n",
    "interact(scrub_strain,\n",
    "         experiment_name=file_widget,\n",
    "         time_step=timestep_widget,\n",
    "         deformation_maps=fixed(deformation_maps),\n",
    "         continuous_update=False);"
   ]
  },
  {
   "cell_type": "markdown",
   "metadata": {},
   "source": [
    "## Plotting shape change of sample\n",
    "\n",
    "rho is the shape change -deyy/dexx"
   ]
  },
  {
   "cell_type": "code",
   "execution_count": 17,
   "metadata": {
    "pycharm": {
     "name": "#%%\n"
    }
   },
   "outputs": [
    {
     "data": {
      "application/vnd.jupyter.widget-view+json": {
       "model_id": "423872070c7a412ab4e8d7e3aac79966",
       "version_major": 2,
       "version_minor": 0
      },
      "text/plain": [
       "interactive(children=(Dropdown(description='experiment_name', options=('0-1',), value='0-1'), IntSlider(value=…"
      ]
     },
     "metadata": {},
     "output_type": "display_data"
    }
   ],
   "source": [
    "file_widget = Dropdown(options=sample_angles)\n",
    "timestep_widget = IntSlider(min=1, max=len(deformation_maps[sample_angles[0]]) - 1, step=1, continuous_update=False)\n",
    "\n",
    "def scrub_rho(experiment_name: int, time_step: str, deformation_maps: dict):\n",
    "    rho = -deformation_maps[experiment_name][time_step].f11 / deformation_maps[experiment_name][\n",
    "        time_step].f22\n",
    "    plt.imshow(rho)\n",
    "    plt.colorbar()\n",
    "    plt.show()\n",
    "\n",
    "\n",
    "# Dynamically update the maximum value of the timestep value dependent on the number of images in the experiment.\n",
    "def update_timestep_range(*args):\n",
    "    timestep_widget.max = len(deformation_maps[file_widget.value]) - 1\n",
    "file_widget.observe(update_timestep_range, 'value')\n",
    "\n",
    "interact(scrub_rho,\n",
    "         experiment_name=file_widget,\n",
    "         time_step=timestep_widget,\n",
    "         deformation_maps=fixed(deformation_maps),\n",
    "         continuous_update=False);"
   ]
  },
  {
   "cell_type": "markdown",
   "metadata": {},
   "source": [
    "## Plotting sample strain/true strain over time\n",
    "\n",
    "We crop the deformation map to select only the center of the sample by setting the x_range and y_range parameters. These select the pixel range used to calculate the strain."
   ]
  },
  {
   "cell_type": "code",
   "execution_count": 18,
   "metadata": {
    "pycharm": {
     "name": "#%%\n"
    }
   },
   "outputs": [
    {
     "data": {
      "application/vnd.jupyter.widget-view+json": {
       "model_id": "4bac67d2ff714717b84b6aca6e381ea6",
       "version_major": 2,
       "version_minor": 0
      },
      "text/plain": [
       "interactive(children=(SelectMultiple(description='sample_angles', index=(0,), options=('0-1',), value=('0-1',)…"
      ]
     },
     "metadata": {},
     "output_type": "display_data"
    }
   ],
   "source": [
    "x_range = (1, 12)\n",
    "y_range = (10, 24)\n",
    "\n",
    "\n",
    "def plot_strain(sample_angles: List[str], plot_eng_strain: bool, \n",
    "                mean_strain: Dict[str, np.ndarray],\n",
    "               mean_true_strain: Dict[str, np.ndarray]):\n",
    "    \n",
    "    plt.figure(figsize=(10, 6))\n",
    "\n",
    "    for angle in sample_angles:\n",
    "        # Plot mean strain and mean true strain against time\n",
    "        plt.plot(mean_true_strain[angle], label=f\"true strain {angle}\")\n",
    "        if plot_eng_strain:\n",
    "            plt.plot(mean_strain[angle], label=f\"eng strain {angle}\")\n",
    "\n",
    "    plt.xlabel(\"Time step\")\n",
    "    plt.ylabel(\"Strain\")\n",
    "    plt.legend(bbox_to_anchor=(1, 1))\n",
    "    plt.show()\n",
    "\n",
    "\n",
    "# Mean strain over time, one for each sample angle\n",
    "mean_strain = {}\n",
    "mean_true_strain = {}\n",
    "\n",
    "# Loop over all sample angles\n",
    "for angle in sample_angles:\n",
    "    mean_strain[angle] = []\n",
    "\n",
    "    # Loop over all time steps\n",
    "    for def_map in deformation_maps[angle]:\n",
    "        # Crop the map the center and calculate the mean longitudinal strain\n",
    "        cropped_map = def_map.f22[y_range[0]:y_range[1], x_range[0]:x_range[1]]\n",
    "        mean_strain[angle].append(np.mean(cropped_map))\n",
    "    # Convert list of mean strains to np array\n",
    "    mean_strain[angle] = np.array(mean_strain[angle])\n",
    "    # Compute true strains\n",
    "    mean_true_strain[angle] = np.log(mean_strain[angle] + 1)\n",
    "    \n",
    "interact(plot_strain, sample_angles=SelectMultiple(options=sample_angles, value=sample_angles), \n",
    "         plot_eng_strain=Checkbox(), mean_strain=fixed(mean_strain), mean_true_strain=fixed(mean_true_strain));"
   ]
  },
  {
   "cell_type": "markdown",
   "metadata": {},
   "source": [
    "## Plotting transverse strain and longitudinal strain over time\n",
    "Again we select only the ceter of the sample to calcualte the mean strain."
   ]
  },
  {
   "cell_type": "code",
   "execution_count": 19,
   "metadata": {
    "pycharm": {
     "name": "#%%\n"
    }
   },
   "outputs": [
    {
     "data": {
      "application/vnd.jupyter.widget-view+json": {
       "model_id": "695d58e42a1249ae8e1adfc404b0220b",
       "version_major": 2,
       "version_minor": 0
      },
      "text/plain": [
       "interactive(children=(SelectMultiple(description='sample_angles', index=(0,), options=('0-1',), value=('0-1',)…"
      ]
     },
     "metadata": {},
     "output_type": "display_data"
    }
   ],
   "source": [
    "def plot_transverse_strain(sample_angles: List[str], plot_strain: bool, \n",
    "                           mean_strain: Dict[str, np.ndarray], mean_trans_strain: Dict[str, np.ndarray],\n",
    "                          mean_true_trans_strain: Dict[str, np.ndarray]):\n",
    "\n",
    "    plt.figure(figsize=(10, 6))\n",
    "    for angle in sample_angles:\n",
    "        if plot_strain:\n",
    "            plt.plot(mean_true_strain[angle], label=f\"true strain {angle}\")\n",
    "        plt.plot(mean_true_trans_strain[angle], label=f\"true transverse_strain {angle}\")\n",
    "\n",
    "    plt.xlabel('Time step')\n",
    "    plt.ylabel('Strain')\n",
    "    plt.legend(bbox_to_anchor=(1, 1))\n",
    "    plt.show()\n",
    "\n",
    "\n",
    "# Mean transverse strain over time, one for each sample angle\n",
    "mean_trans_strain = {}\n",
    "mean_true_trans_strain = {}\n",
    "    \n",
    "# Loop over all sample angles\n",
    "for angle in sample_angles:\n",
    "    mean_trans_strain[angle] = []\n",
    "    # Loop over all time steps\n",
    "    for def_map in deformation_maps[angle]:\n",
    "        # Crop the map to the center and calculate the mean transverse strain\n",
    "        cropped_map = def_map.f11[y_range[0]:y_range[1], x_range[0]:x_range[1]]\n",
    "        mean_trans_strain[angle].append(np.mean(cropped_map))\n",
    "    # Convert list of mean transverse strains to np array\n",
    "    mean_trans_strain[angle] = np.array(mean_trans_strain[angle])\n",
    "    # Compute true transverse strain\n",
    "    mean_true_trans_strain[angle] = np.log(np.array(mean_trans_strain[angle]) + 1)\n",
    "\n",
    "    \n",
    "interact(plot_transverse_strain, sample_angles=SelectMultiple(options=sample_angles, value=sample_angles), \n",
    "         plot_strain=Checkbox(), mean_strain=fixed(mean_strain), mean_trans_strain=fixed(mean_trans_strain),\n",
    "        mean_true_trans_strain=fixed(mean_true_trans_strain));"
   ]
  },
  {
   "cell_type": "markdown",
   "metadata": {},
   "source": [
    "## Plotting Strain ratio\n",
    "\n",
    "Here we plot the ratio of the longitudinal strain to transverse strain.\n",
    "\n",
    "We crop the data at a max and min longitudinal strain to avoid noisy data points"
   ]
  },
  {
   "cell_type": "code",
   "execution_count": 20,
   "metadata": {
    "pycharm": {
     "name": "#%%\n"
    }
   },
   "outputs": [
    {
     "data": {
      "application/vnd.jupyter.widget-view+json": {
       "model_id": "670868fccb72443abc42336036eb321a",
       "version_major": 2,
       "version_minor": 0
      },
      "text/plain": [
       "interactive(children=(SelectMultiple(description='sample_angles', index=(0,), options=('0-1',), value=('0-1',)…"
      ]
     },
     "metadata": {},
     "output_type": "display_data"
    }
   ],
   "source": [
    "min_strain = 0.02\n",
    "max_strain = 0.29\n",
    "\n",
    "def plot_strain_ratio(sample_angles: List[str], mean_true_strain: Dict[str, np.ndarray], \n",
    "                      mean_true_trans_strain: Dict[str, np.ndarray]):\n",
    "    plt.figure(figsize=(10, 6))\n",
    "    \n",
    "    for angle in sample_angles:\n",
    "\n",
    "        with np.errstate(invalid='ignore'):\n",
    "            true_strain_ratio = - mean_true_trans_strain[angle] / mean_true_strain[angle]\n",
    "\n",
    "        mask = np.logical_and(min_strain < mean_true_strain[angle], mean_true_strain[angle] < max_strain)\n",
    "        plt.plot(mean_true_strain[angle][mask], true_strain_ratio[mask], label=angle)\n",
    "\n",
    "    plt.xlabel(\"true strain\")\n",
    "    plt.ylabel(\"true strain ratio\")\n",
    "    plt.legend(bbox_to_anchor=(1, 1))\n",
    "    plt.show()\n",
    "\n",
    "\n",
    "interact(plot_strain_ratio, sample_angles=SelectMultiple(options=sample_angles, value=sample_angles), \n",
    "         mean_true_strain=fixed(mean_true_strain), mean_true_trans_strain=fixed(mean_true_trans_strain));"
   ]
  },
  {
   "cell_type": "markdown",
   "metadata": {},
   "source": [
    "## Plotting Lankford parameter\n",
    "As above, we cut the data at a minimum and maximum strain to reduce noise."
   ]
  },
  {
   "cell_type": "code",
   "execution_count": 21,
   "metadata": {
    "pycharm": {
     "name": "#%%\n"
    }
   },
   "outputs": [
    {
     "data": {
      "application/vnd.jupyter.widget-view+json": {
       "model_id": "887338550106429996454eca457fa47e",
       "version_major": 2,
       "version_minor": 0
      },
      "text/plain": [
       "interactive(children=(SelectMultiple(description='sample_angles', index=(0,), options=('0-1',), value=('0-1',)…"
      ]
     },
     "metadata": {},
     "output_type": "display_data"
    }
   ],
   "source": [
    "def plot_lankford(sample_angles: List[str], mean_true_strain: Dict[str, np.ndarray], \n",
    "                      mean_true_trans_strain: Dict[str, np.ndarray]):\n",
    "    plt.figure(figsize=(10, 6))\n",
    "\n",
    "    for angle in sample_angles:\n",
    "\n",
    "        with np.errstate(invalid='ignore'):\n",
    "            true_strain_ratio = - mean_true_trans_strain[angle] / mean_true_strain[angle]\n",
    "        lankford = true_strain_ratio / (1 - true_strain_ratio)\n",
    "\n",
    "        mask = np.logical_and(min_strain < mean_true_strain[angle], mean_true_strain[angle] < max_strain)\n",
    "        plt.plot(mean_true_strain[angle][mask], lankford[mask], label=angle)\n",
    "\n",
    "    plt.legend(bbox_to_anchor=(1, 1))\n",
    "    plt.xlabel(\"true strain\")\n",
    "    plt.ylabel(\"Lankford parameter\")\n",
    "    plt.show()\n",
    "\n",
    "\n",
    "interact(plot_lankford, sample_angles=SelectMultiple(options=sample_angles, value=sample_angles), \n",
    "         mean_true_strain=fixed(mean_true_strain), mean_true_trans_strain=fixed(mean_true_trans_strain));"
   ]
  },
  {
   "cell_type": "markdown",
   "metadata": {},
   "source": [
    "## Plotting Measured strain data"
   ]
  },
  {
   "cell_type": "code",
   "execution_count": 22,
   "metadata": {
    "pycharm": {
     "name": "#%%\n"
    },
    "scrolled": false
   },
   "outputs": [
    {
     "data": {
      "application/vnd.jupyter.widget-view+json": {
       "model_id": "4e2b0ea8c229402ea9a2c25152039350",
       "version_major": 2,
       "version_minor": 0
      },
      "text/plain": [
       "interactive(children=(SelectMultiple(description='sample_angles', index=(0,), options=('0-1',), value=('0-1',)…"
      ]
     },
     "metadata": {},
     "output_type": "display_data"
    }
   ],
   "source": [
    "def plot_measured_strain(sample_angles: List[str], voltage_data: Dict[str, np.ndarray]):\n",
    "\n",
    "    plt.figure(figsize=(10, 6))\n",
    "\n",
    "    for angle in sample_angles:\n",
    "        plt.plot(voltage_data[angle][:, 0], voltage_data[angle][:, 1], label=angle)\n",
    "        plt.xlabel(\"True Strain\")\n",
    "        plt.ylabel(\"True Stress (MPa)\")\n",
    "        plt.legend()\n",
    "    plt.show()\n",
    "\n",
    "\n",
    "cropped_voltage_data = {}\n",
    "    \n",
    "for angle in sample_angles:\n",
    "    voltage_data = np.loadtxt(data_folder / f\"test {angle}/voltage data/data_1.csv\", delimiter=\",\", skiprows=2, usecols=(4, 15))\n",
    "\n",
    "    # Cut off data when it begins dropping at the end of the experiment\n",
    "    data_limit = voltage_data.shape[0]\n",
    "    for i in range(0, data_limit - 50):\n",
    "        if voltage_data[i, 1] > voltage_data[i + 50, 1]:\n",
    "            data_limit = i + 50\n",
    "            break\n",
    "    cropped_voltage_data[angle] = voltage_data[:data_limit, :2]\n",
    "    \n",
    "\n",
    "interact(plot_measured_strain, sample_angles=SelectMultiple(options=sample_angles, value=sample_angles), \n",
    "         voltage_data=fixed(cropped_voltage_data));"
   ]
  },
  {
   "cell_type": "code",
   "execution_count": null,
   "metadata": {},
   "outputs": [],
   "source": []
  }
 ],
 "metadata": {
  "kernelspec": {
   "display_name": "Python 3",
   "language": "python",
   "name": "python3"
  },
  "language_info": {
   "codemirror_mode": {
    "name": "ipython",
    "version": 3
   },
   "file_extension": ".py",
   "mimetype": "text/x-python",
   "name": "python",
   "nbconvert_exporter": "python",
   "pygments_lexer": "ipython3",
   "version": "3.8.5"
  }
 },
 "nbformat": 4,
 "nbformat_minor": 2
}
