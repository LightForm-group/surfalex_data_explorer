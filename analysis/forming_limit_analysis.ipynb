{
 "cells": [
  {
   "cell_type": "markdown",
   "metadata": {},
   "source": [
    "# Plotting forming limit curves from forming test data\n",
    "\n",
    "This analysis starts with data exported from the GOM-correlate software.\n",
    "\n",
    "Each experiment has 3 sections and each section has data for the major and minor strain. Each experiment is repeated multiple times with multiple sample geometries.\n",
    "\n",
    "We plot 2 forming limit curves (FLC) from the data using two different stopping criteria:\n",
    "* Formation of a crack in the sample\n",
    "* First derivative necking \n",
    "\n",
    "Formation of a crack in the material is determined by inspection of the sample images.\n",
    "\n",
    "First derivative necking determines the necking time to be when the strain in the sample becomes localised. This is determined numerically as the point at which the major strain in the necking region is 10 times greater than the major strain in the non-nekcing section."
   ]
  },
  {
   "cell_type": "code",
   "execution_count": null,
   "metadata": {},
   "outputs": [],
   "source": [
    "from pathlib import Path\n",
    "import glob\n",
    "from typing import List, Union, Tuple, Dict\n",
    "from datetime import datetime\n",
    "\n",
    "from scipy.signal import find_peaks\n",
    "from scipy.ndimage import median_filter\n",
    "import numpy as np\n",
    "from tqdm.notebook import tqdm\n",
    "import matplotlib.pyplot as plt\n",
    "import pandas as pd\n",
    "from ipywidgets import fixed, interact, IntSlider, SelectMultiple, Checkbox\n",
    "import dic_analysis.io\n",
    "\n",
    "import utilities"
   ]
  },
  {
   "cell_type": "markdown",
   "metadata": {},
   "source": [
    "The fracture time of each sample is determined by visual inspection of the sample images at each time step. The fracture times are listed here, one for each sample."
   ]
  },
  {
   "cell_type": "code",
   "execution_count": null,
   "metadata": {},
   "outputs": [],
   "source": [
    "fracture_times = {\n",
    "    '10mm_001': 145,\n",
    "    '10mm_002': 137,\n",
    "    '10mm_003': 143,\n",
    "    '20mm_001': 139,\n",
    "    '20mm_002': 134,\n",
    "    '20mm_003': 140,\n",
    "    '40mm_001': 151,\n",
    "    '40mm_002': 151,\n",
    "    '40mm_003': 149,\n",
    "    '60mm_001': 155,\n",
    "    '60mm_002': 153,\n",
    "    '60mm_003': 155,\n",
    "    '120mm_001': 150,\n",
    "    '120mm_002': 149,\n",
    "    '120mm_003': 148,\n",
    "    'fullcircle_001': 152,\n",
    "    'fullcircle_002': 157,\n",
    "    'fullcircle_003': 151,\n",
    "}\n",
    "\n",
    "sample_sizes = [\"10mm\", \"20mm\", \"40mm\", \"60mm\", \"120mm\", \"fullcircle\"]"
   ]
  },
  {
   "cell_type": "markdown",
   "metadata": {},
   "source": [
    "# Download Data\n",
    "The strain data dervied from the GOM Correlate software (~50 MB) are downloaded to `data/nakazima`."
   ]
  },
  {
   "cell_type": "code",
   "execution_count": null,
   "metadata": {
    "pycharm": {
     "name": "#%%\n"
    }
   },
   "outputs": [],
   "source": [
    "data_locations = utilities.read_data_yaml(\"../data/zenodo_URLs.yaml\")[\"nakazima_tests\"]\n",
    "print(data_locations)\n",
    "\n",
    "data_folder = utilities.get_file_from_url('../data/nakazima', unzip=True, **data_locations)\n",
    "print(data_folder)"
   ]
  },
  {
   "cell_type": "markdown",
   "metadata": {},
   "source": [
    "First we load the DIC data from the files up to the time of fracture for each sample."
   ]
  },
  {
   "cell_type": "code",
   "execution_count": null,
   "metadata": {
    "scrolled": false
   },
   "outputs": [],
   "source": [
    "def get_time_from_file(path: Path) -> datetime:\n",
    "    \"\"\"Get the time of the measurement from the data file.\"\"\"\n",
    "    sample_time_string = pd.read_csv(path, skiprows=2, delimiter=\";\", nrows=1)[\"date\"].values[0]\n",
    "    return datetime.fromisoformat(sample_time_string)\n",
    "\n",
    "\n",
    "def load_data(file_directory: str, fracture_time: int) -> Tuple[List[np.ndarray], List[float]]:\n",
    "    \"\"\"Load strain data from files. \n",
    "    \n",
    "    Output is a list of numpy arrays, one for each timestep and a list of times, one for each timestep.\"\"\"\n",
    "    frames = []\n",
    "    sample_times = []\n",
    "    file_list = sorted(glob.glob(f\"{file_directory}/*.csv\"))\n",
    "    \n",
    "    # We ignore the first frame since it is before the experiment begins and we ignore the fracture frame and any after\n",
    "    start_time = get_time_from_file(Path(file_list[1]))\n",
    "\n",
    "    for index, file_name in enumerate(file_list):\n",
    "        # Add one to index becuase python is zero based but file numbering is one based.\n",
    "        if 1 < index + 1 < fracture_time:\n",
    "            file_path = Path(file_name)\n",
    "            sample_times.append((get_time_from_file(file_path) - start_time).total_seconds())\n",
    "            data = np.genfromtxt(file_path, skip_header=6, delimiter=\";\", usecols=[5])\n",
    "            frames.append(data)\n",
    "    return frames, sample_times\n",
    "\n",
    "major_strain_data = {}\n",
    "minor_strain_data = {}\n",
    "frame_times = {}\n",
    "for experiment_name, fracture_time in tqdm(fracture_times.items()):\n",
    "    file_directory = data_folder/ f\"{experiment_name}/Section one/major strain\"\n",
    "    major_strain_data[experiment_name], time = load_data(file_directory, fracture_time)    \n",
    "    frame_times[experiment_name] = time\n",
    "    \n",
    "    file_directory = data_folder / f\"{experiment_name}/Section one/minor strain\"\n",
    "    minor_strain_data[experiment_name], _ = load_data(file_directory, fracture_time)"
   ]
  },
  {
   "cell_type": "markdown",
   "metadata": {},
   "source": [
    "Make a results folder for figure outputs if it does not yet exist"
   ]
  },
  {
   "cell_type": "code",
   "execution_count": null,
   "metadata": {},
   "outputs": [],
   "source": [
    "RESULTS_DIR = Path('../results')\n",
    "RESULTS_DIR.mkdir(exist_ok=True, parents=True)"
   ]
  },
  {
   "cell_type": "markdown",
   "metadata": {},
   "source": [
    "## 1). FLC from crack formation\n",
    "The simplest way to define the stop points for the strain paths is to plot them up to the point of sample fracture. You can select or deselect experiments to be shown in the graph by holding the **Ctrl** key and clicking on the experiment name in the list."
   ]
  },
  {
   "cell_type": "code",
   "execution_count": null,
   "metadata": {
    "scrolled": false
   },
   "outputs": [],
   "source": [
    "def get_color(name: str, sample_names: List[str]) -> tuple:\n",
    "    \"\"\"Returns a RGBA tuple for the dataset based on its label.\"\"\" \n",
    "    index = sample_names.index(name.split(\"_\")[0])\n",
    "    color_value = index / len(sample_names)\n",
    "    color = plt.get_cmap(\"viridis\")(color_value)\n",
    "    return color\n",
    "\n",
    "def get_marker(name: str) -> str:\n",
    "    \"\"\"Returns a symbol for the dataset based on the repeat number.\"\"\" \n",
    "    symbols = [\".\", \"+\", \"x\"] \n",
    "    repeat_number = int(name.split(\"_\")[1])\n",
    "    return symbols[repeat_number - 1]\n",
    "\n",
    "def plot_strain_paths(names_to_plot: List[str], data: Dict[str, np.ndarray], title: str):\n",
    "    plt.figure(figsize=(10,6))\n",
    "\n",
    "    for experiment_name in names_to_plot:\n",
    "        if experiment_name in data:\n",
    "            # Plot the whole strain profile as a line\n",
    "            plt.plot(data[experiment_name][:, 0], data[experiment_name][:, 1], \n",
    "                     marker=get_marker(experiment_name), label=experiment_name,\n",
    "                     color=get_color(experiment_name, sample_sizes), linestyle=None)\n",
    "        \n",
    "            # Plot the moment before fracture as a larger point\n",
    "            plt.plot(data[experiment_name][-1, 0], data[experiment_name][-1, 1], \n",
    "                     marker=\"o\", color=get_color(experiment_name, sample_sizes), ms=10)\n",
    "        \n",
    "    plt.xlabel(\"Minor strain\")\n",
    "    plt.ylabel(\"Major strain\")\n",
    "    plt.title(title)\n",
    "    plt.legend(loc='center right', bbox_to_anchor=(1.22, 0.5))\n",
    "    plt.show()\n",
    "\n",
    "strain_at_fracture = {}\n",
    "\n",
    "for experiment_name, fracture_time in fracture_times.items():\n",
    "    # Find the position of the maximum strain as it breaks. \n",
    "    max_strain_index = np.argmax(major_strain_data[experiment_name][-1])\n",
    "\n",
    "    # Collect major and minor strain over time at the fracture position\n",
    "    major_strain = [timestep[max_strain_index] for timestep in major_strain_data[experiment_name]]\n",
    "    minor_strain = [timestep[max_strain_index] for timestep in minor_strain_data[experiment_name]]\n",
    "    \n",
    "    strain_at_fracture[experiment_name] = np.stack((minor_strain, major_strain), axis=-1)\n",
    "    \n",
    "experiment_names = list(fracture_times.keys())\n",
    "interact(plot_strain_paths, names_to_plot=SelectMultiple(options=experiment_names, value=experiment_names), \n",
    "         data=fixed(strain_at_fracture), title=fixed(\"Strain paths for Surfalex to crack formation\"));"
   ]
  },
  {
   "cell_type": "markdown",
   "metadata": {},
   "source": [
    "We can see that the second repeat of the 60mm sample has failed. We will not use this data point for analysis. The rest of the strain profiles look reasonable so we take an average of the 3 runs as a point for the forming limit diagram later."
   ]
  },
  {
   "cell_type": "code",
   "execution_count": null,
   "metadata": {},
   "outputs": [],
   "source": [
    "# Remove the second repeat of 60 mm sample\n",
    "fracture_times.pop(\"60mm_002\", None)\n",
    "strain_at_fracture.pop(\"60mm_002\", None)\n",
    "\n",
    "num_repeats = 3\n",
    "\n",
    "def collect_final_strains(sample_sizes: List[str], fracture_times: dict, strain_at_fracture: Dict[str, np.ndarray]):\n",
    "    fracture_strains = np.zeros((len(sample_sizes), 2))\n",
    "\n",
    "    for index, sample_size in enumerate(sample_sizes):\n",
    "        final_strain = np.zeros(2)\n",
    "        num_samples = 0\n",
    "        for repeat in range(1, num_repeats + 1):\n",
    "            sample_name = f\"{sample_size}_{repeat:03d}\"\n",
    "            if sample_name in fracture_times:\n",
    "                final_strain += strain_at_fracture[sample_name][-1, :]\n",
    "                num_samples += 1\n",
    "        final_strain = final_strain / num_samples\n",
    "        fracture_strains[index] = final_strain\n",
    "    return fracture_strains\n",
    "\n",
    "fracture_strains = collect_final_strains(sample_sizes, fracture_times, strain_at_fracture)"
   ]
  },
  {
   "cell_type": "markdown",
   "metadata": {},
   "source": [
    "## 2). FLC from first derivative necking\n",
    "\n",
    "First derivative necking determines the necking time to be when the strain in the sample becomes localised. This is determined numerically as the point at which the major strain in the necking region strongly exceeds the strain in the non-necking region. In this analysis, we set the cut-off point to be where the major strain in the necking region is 10 times the major strain in the non-necking region.\n",
    "\n",
    "In order to measure this, we need to collect the evolution of the strain with time at the necking point and away from the necking point. In these samples the strain localisation is bimodal. We identify the necking point as the point of maximum strain at the timestep before the sample fails, this is typically at one end of the sample. We identify the point away from the neck to be the point of minimum strain between the two peaks at fracture.\n",
    "\n",
    "In the below cells we build the analysis step by step.\n",
    "\n",
    "The first cell shows strain profile at at fracture time. The maximum strain point is marked with a grey line and the minimum strain point is marked by a red line."
   ]
  },
  {
   "cell_type": "code",
   "execution_count": null,
   "metadata": {},
   "outputs": [],
   "source": [
    "def get_max_strain_index(major_strain_data: np.ndarray, experiment_name: str) -> int:\n",
    "    \"\"\"Finds the maximum strain for a strain profile of `experiment_name` at fracture time.\"\"\"\n",
    "    peaks, peak_properties = find_peaks(major_strain_data[experiment_name][-1], distance=50, height=0)\n",
    "    return peaks[np.argmax(peak_properties[\"peak_heights\"])]\n",
    "\n",
    "def get_min_strain_index(major_strain_data: np.ndarray, experiment_name: str) -> int:\n",
    "    \"\"\"Finds the minimum strain between two maxima for a strain profile of `experiment_name` at fracture time.\"\"\"\n",
    "    peaks, peak_properties = find_peaks(major_strain_data[experiment_name][-1], distance=50, height=0)\n",
    "    return np.argmin(major_strain_data[experiment_name][-1][peaks[0]:peaks[1]]) + peaks[0]\n",
    "\n",
    "def plot_strain_max_min(major_strain_data: np.ndarray, experiment_name: str): \n",
    "    \"\"\"Plot the identified minimum and maximum strain on the strain profile.\"\"\"\n",
    "    max_strain_index = get_max_strain_index(major_strain_data, experiment_name)\n",
    "    min_strain_index = get_min_strain_index(major_strain_data, experiment_name)\n",
    "    \n",
    "    plt.figure(figsize=(10,6))\n",
    "    plt.plot(major_strain_data[experiment_name][-1], label=\"Strain profile\")\n",
    "    plt.vlines(max_strain_index, plt.ylim()[0], plt.ylim()[1], alpha=0.5, color=\"k\", label=\"Fracture point\")\n",
    "    plt.vlines(min_strain_index, plt.ylim()[0], plt.ylim()[1], color=\"r\", alpha=0.5, label=\"Minimum strain\")\n",
    "    plt.title(f\"Strain map of sample: {experiment_name} at fracture time\")\n",
    "    plt.xlabel(\"Vertical sample position\")\n",
    "    plt.ylabel(\"Strain\")\n",
    "    plt.legend()\n",
    "    plt.show()\n",
    "\n",
    "interact(plot_strain_max_min, major_strain_data=fixed(major_strain_data), \n",
    "         experiment_name=list(fracture_times.keys()));"
   ]
  },
  {
   "cell_type": "markdown",
   "metadata": {},
   "source": [
    "We now collect the major and minor strain over time at the neck and away from the neck. \n",
    "\n",
    "We cut off the data from before 20 seconds since there are some early fluctuations which do not represent necking but make the later fitting harder. We know that the necking does not occur before 20 seconds in any of the samples."
   ]
  },
  {
   "cell_type": "code",
   "execution_count": null,
   "metadata": {},
   "outputs": [],
   "source": [
    "time_cutoff = 20\n",
    "\n",
    "def get_index(value: float, data: Union[list, np.ndarray]) -> int:   \n",
    "    \"\"\"Return the index of the data point, closest to `value` in `data`.\"\"\"\n",
    "    return np.argmin(np.abs(np.array(data) - value))\n",
    "\n",
    "def get_strain(experiment_name: str, frame_times: np.ndarray, major_strain_data: np.ndarray, crop_index: int):\n",
    "    \"\"\"Get strain at the neck and away from the neck. Crop values at inital value `crop_index`.\"\"\"\n",
    "    # Get indices of max and min strain\n",
    "    max_strain_index = get_max_strain_index(major_strain_data, experiment_name)\n",
    "    min_strain_index = get_min_strain_index(major_strain_data, experiment_name)\n",
    "\n",
    "    # Collect strain over time at and away from neck\n",
    "    major_strain_at_neck = [timestep[max_strain_index] for timestep in major_strain_data[experiment_name]]\n",
    "    major_strain_away_neck = [timestep[min_strain_index] for timestep in major_strain_data[experiment_name]]\n",
    "    \n",
    "    return major_strain_at_neck[crop_index:], major_strain_away_neck[crop_index:]\n",
    "\n",
    "def get_frame_times(experiment_name: str, crop_index: int) -> np.ndarray:\n",
    "    \"\"\"Get the time data for `experiment_name` starting at index `crop_index`\"\"\"\n",
    "    return frame_times[experiment_name][crop_index:]\n",
    "\n",
    "def plot_strain_over_time(experiment_name: str, frame_times: np.ndarray, major_strain_data: np.ndarray):\n",
    "    # Get the index of the data point at `time_cutoff` seconds for cropping\n",
    "    crop_index = get_index(frame_times[experiment_name], time_cutoff)\n",
    "    \n",
    "    time = get_frame_times(experiment_name, crop_index)\n",
    "    major_strain_at_neck, major_strain_away_neck = get_strain(experiment_name, frame_times, major_strain_data, crop_index)\n",
    "\n",
    "    plt.figure(figsize=(10, 6))\n",
    "\n",
    "    plt.plot(time, major_strain_at_neck, \"x\", label=\"At neck\")\n",
    "    plt.plot(time, major_strain_away_neck, \"x\", label=\"Away from neck\")\n",
    "    plt.xlabel(\"Time (s)\")\n",
    "    plt.title(f\"Major strain for experiment: {experiment_name} at two points\")\n",
    "    plt.ylabel(\"Strain\")\n",
    "    plt.legend()\n",
    "    plt.show()\n",
    "\n",
    "interact(plot_strain_over_time,\n",
    "         experiment_name=list(fracture_times.keys()),\n",
    "         frame_times=fixed(frame_times),\n",
    "         major_strain_data=fixed(major_strain_data)\n",
    "        );"
   ]
  },
  {
   "cell_type": "markdown",
   "metadata": {},
   "source": [
    "Although the data looks good, it is a little noisy which becomes problematic when calculating the strain rate. For this reason we filter the strain rate with a median filter to smooth it. The kernel size of the median filter can be set in the below figure. Setting the size to 1 is equivilent to no smoothing.\n",
    "\n",
    "The strain rate at the neck is fairly smooth, but the strain rate away form the neck is noisy because of the low values of strain. A kernel size of 13-15 is required to smooth the strain rate away from the neck."
   ]
  },
  {
   "cell_type": "code",
   "execution_count": null,
   "metadata": {},
   "outputs": [],
   "source": [
    "def plot_smooth_strain(experiment_name: str, filter_window: int, plot_neck: bool, plot_not_neck: bool):\n",
    "    crop_index = get_index(frame_times[experiment_name], time_cutoff)\n",
    "    \n",
    "    time = get_frame_times(experiment_name, crop_index)\n",
    "    major_strain_at_neck, major_strain_away_neck = get_strain(experiment_name, frame_times, major_strain_data, crop_index)\n",
    "\n",
    "    if plot_neck:\n",
    "        strain_rate_at_neck = np.gradient(major_strain_at_neck, time)\n",
    "        smooth_strain_rate_at_neck = median_filter(strain_rate_at_neck, filter_window, mode=\"nearest\")\n",
    "        plt.plot(time, smooth_strain_rate_at_neck, \"-\", label=\"Smoothed neck strain rate\")\n",
    "    \n",
    "    if plot_not_neck:\n",
    "        strain_rate_away_neck = np.gradient(major_strain_away_neck, time)\n",
    "        smooth_strain_rate_away_neck = median_filter(strain_rate_away_neck, filter_window, mode=\"nearest\")\n",
    "        plt.plot(time, smooth_strain_rate_away_neck, \"-\", label=\"Smoothed non-neck strain rate\")\n",
    "    \n",
    "    plt.xlabel(\"Time (s)\")\n",
    "    plt.ylabel(\"Strain rate (/s)\")\n",
    "    plt.legend()\n",
    "    plt.show()\n",
    "    \n",
    "\n",
    "interact(plot_smooth_strain,\n",
    "         experiment_name=list(fracture_times.keys()),\n",
    "         filter_window=IntSlider(min=1, value=1, max=20, description=\"Filter size.\", continuous_update=False),\n",
    "         plot_neck=Checkbox(value=True, description=\"Plot strain at neck\"),\n",
    "         plot_not_neck=Checkbox(value=True, description=\"Plot strain at non-neck region\")\n",
    "        );"
   ]
  },
  {
   "cell_type": "markdown",
   "metadata": {},
   "source": [
    "The slider in the interactive graph allows you to find the time at which the sample reaches a certain strain ratio."
   ]
  },
  {
   "cell_type": "code",
   "execution_count": null,
   "metadata": {},
   "outputs": [],
   "source": [
    "def get_strain_ratio(experiment_name: str, frame_times: np.ndarray, major_strain_data: np.ndarray, crop_index: int, \n",
    "                     filter_window: int) -> np.ndarray:\n",
    "    time = get_frame_times(experiment_name, crop_index)\n",
    "    major_strain_at_neck, major_strain_away_neck = get_strain(experiment_name, frame_times, major_strain_data, crop_index)\n",
    "    \n",
    "    strain_rate_at_neck = np.gradient(major_strain_at_neck, time)\n",
    "    strain_rate_away_neck = np.gradient(major_strain_away_neck, time)\n",
    "    \n",
    "    smooth_strain_rate_at_neck = median_filter(strain_rate_at_neck, filter_window, mode=\"nearest\")\n",
    "    smooth_strain_rate_away_neck = median_filter(strain_rate_away_neck, filter_window, mode=\"nearest\")\n",
    "\n",
    "    with np.errstate(divide='ignore'):\n",
    "        ratio = smooth_strain_rate_at_neck / smooth_strain_rate_away_neck\n",
    "    \n",
    "    return ratio\n",
    "\n",
    "def plot_strain_ratio(experiment_name: str, frame_times: np.ndarray, major_strain_data: np.ndarray, \n",
    "                      cutoff_ratio: int, filter_window: int):\n",
    "    \"\"\"Plot the ratio of the strain rate at the fracture point to the strain rate away from it.\"\"\"\n",
    "    crop_index = get_index(frame_times[experiment_name], time_cutoff)\n",
    "    \n",
    "    # X and Y data\n",
    "    time = get_frame_times(experiment_name, crop_index)\n",
    "    ratio = get_strain_ratio(experiment_name, frame_times, major_strain_data, crop_index, filter_window)\n",
    "    # Find the time at which necking happens\n",
    "    neck_index = get_index(ratio, cutoff_ratio)\n",
    "    neck_time = time[neck_index] \n",
    "\n",
    "    plt.figure(figsize=(10, 6))\n",
    "    plt.plot(time, ratio, \"x\")\n",
    "    plt.vlines(neck_time, plt.ylim()[0], plt.ylim()[1])\n",
    "    plt.hlines(cutoff_ratio, plt.xlim()[0], plt.xlim()[1])\n",
    "    plt.title(f\"Ratio of strain rate at neck to strain away\\n from neck for experiment {experiment_name}\")\n",
    "    plt.xlabel(\"Time (s)\")\n",
    "    plt.ylabel(\"Ratio\")\n",
    "    plt.ylim(0, 20)\n",
    "    plt.show()\n",
    "\n",
    "interact(plot_strain_ratio,\n",
    "         experiment_name=list(fracture_times.keys()),\n",
    "         frame_times=fixed(frame_times),\n",
    "         major_strain_data=fixed(major_strain_data),\n",
    "         cutoff_ratio=IntSlider(min=1, value=10, max=20),\n",
    "         filter_window=IntSlider(min=1, value=1, max=20, description=\"Filter size\")\n",
    "        );"
   ]
  },
  {
   "cell_type": "markdown",
   "metadata": {},
   "source": [
    "We choose a ratio of 10 as the point at which the sample necks. We then use this as the cut off value for determining the forming limit curve."
   ]
  },
  {
   "cell_type": "code",
   "execution_count": null,
   "metadata": {
    "scrolled": false
   },
   "outputs": [],
   "source": [
    "cutoff_ratio = 10\n",
    "median_filter_window = 15\n",
    "\n",
    "strain_at_necking = {}\n",
    "\n",
    "for experiment_name, fracture_time in fracture_times.items():\n",
    "    crop_index = get_index(frame_times[experiment_name], time_cutoff)\n",
    "    \n",
    "    time = get_frame_times(experiment_name, crop_index)\n",
    "    ratio = get_strain_ratio(experiment_name, frame_times, major_strain_data, crop_index, median_filter_window)\n",
    "    \n",
    "    # The neck time is for the cropped data so have to add crop index back on to index the raw data\n",
    "    neck_index = get_index(ratio, cutoff_ratio) + crop_index\n",
    "    \n",
    "    # Find the position of the maximum strain as sample breaks. \n",
    "    max_strain_index = np.argmax(major_strain_data[experiment_name][-1])\n",
    "    \n",
    "    # Collect strains over time at the break position\n",
    "    major_strain = [timestep[max_strain_index] for timestep in major_strain_data[experiment_name]]\n",
    "    minor_strain = [timestep[max_strain_index] for timestep in minor_strain_data[experiment_name]]\n",
    "\n",
    "    strain_at_necking[experiment_name] = np.stack((minor_strain[:neck_index], major_strain[:neck_index]), axis=-1)\n",
    "    \n",
    "interact(plot_strain_paths, names_to_plot=SelectMultiple(options=experiment_names, value=experiment_names), \n",
    "         data=fixed(strain_at_necking), title=fixed(\"Strain paths for Surfalex to necking\"));"
   ]
  },
  {
   "cell_type": "code",
   "execution_count": null,
   "metadata": {},
   "outputs": [],
   "source": [
    "necking_strains = collect_final_strains(sample_sizes, fracture_times, strain_at_necking)"
   ]
  },
  {
   "cell_type": "markdown",
   "metadata": {},
   "source": [
    "# Plot FLD\n",
    "\n",
    "We can now plot the experimental data against the data measured by Constellium"
   ]
  },
  {
   "cell_type": "code",
   "execution_count": null,
   "metadata": {
    "scrolled": false
   },
   "outputs": [],
   "source": [
    "plt.figure()\n",
    "\n",
    "# Plot strain at fracture\n",
    "plt.plot(fracture_strains[:, 0], fracture_strains[:, 1], 'o', label=\"Strain at fracture\")\n",
    "\n",
    "plt.plot(necking_strains[:, 0], necking_strains[:, 1], 'x', label=\"Strain at necking\")\n",
    "\n",
    "# Plot constellium strain\n",
    "data = np.loadtxt(data_folder / 'constellium/constellium_data.txt')\n",
    "plt.plot(data[:, 0], data[:, 1], label=\"Surfalex\")\n",
    "plt.plot(data[:, 2], data[:, 3], label=\"Surfalex HF\")\n",
    "\n",
    "# Make plot pretty\n",
    "plt.ylim(0.180, 0.46)\n",
    "plt.xlim(-0.2, 0.4)\n",
    "plt.ylabel('Major strain')\n",
    "plt.xlabel('Minor strain')\n",
    "ax = plt.gca()\n",
    "ax.spines['top'].set_visible(False)\n",
    "ax.spines['right'].set_visible(False)\n",
    "ax.grid(axis='y', alpha=0.5)\n",
    "    \n",
    "plt.legend()\n",
    "plt.savefig(RESULTS_DIR / \"FLD.png\", dpi=200)"
   ]
  },
  {
   "cell_type": "code",
   "execution_count": null,
   "metadata": {},
   "outputs": [],
   "source": []
  }
 ],
 "metadata": {
  "kernelspec": {
   "display_name": "Python 3",
   "language": "python",
   "name": "python3"
  },
  "language_info": {
   "codemirror_mode": {
    "name": "ipython",
    "version": 3
   },
   "file_extension": ".py",
   "mimetype": "text/x-python",
   "name": "python",
   "nbconvert_exporter": "python",
   "pygments_lexer": "ipython3",
   "version": "3.7.4"
  }
 },
 "nbformat": 4,
 "nbformat_minor": 4
}
