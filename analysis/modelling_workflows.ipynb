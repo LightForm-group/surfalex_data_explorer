{
 "cells": [
  {
   "cell_type": "markdown",
   "metadata": {},
   "source": [
    "# Surfalex formability predictions - MatFlow workflow analysis"
   ]
  },
  {
   "cell_type": "markdown",
   "metadata": {},
   "source": [
    "This Jupyter notebook demonstrates the MatFlow workflows that were generated to investigate the formability of the Surfalex HF Al alloy. Running the cells in this notebook demonstrates how the MatFlow Python API can be used to inspect the results from, and perform further analysis on, MatFlow workflows.\n",
    "\n",
    "This notebook and the five associated MatFlow workflows can be considered supplementary data to the following manuscript:\n",
    "\n",
    "***'A novel integrated framework for reproducible formability predictions using virtual materials testing'***, A. J. Plowman, P. Jedrasiak, T. Jailin, P. Crowther, S. Mishra, P. Shanthraj, J. Quinta da Fonseca, in preparation.\n",
    "\n",
    "In the work described in the above manuscript, we split the workflow into five sub-workflows, as follows:\n",
    "\n",
    "1. Generate a representative volume element (with DAMASK and MTEX)\n",
    "2. Fit single-crystal parameters for calibrated crystal plasticity (CP) simulations (with DAMASK)\n",
    "3. Fit yield functions from full field CP simulations (with DAMASK and formable)\n",
    "4. Estimate hardening curves from full field CP simulations (with DAMASK)\n",
    "5. Perform Marciniak-Kukcyski simulations using the finite-element method (with Abaqus)"
   ]
  },
  {
   "cell_type": "code",
   "execution_count": null,
   "metadata": {},
   "outputs": [],
   "source": [
    "%load_ext autoreload\n",
    "%autoreload 2"
   ]
  },
  {
   "cell_type": "code",
   "execution_count": null,
   "metadata": {},
   "outputs": [],
   "source": [
    "import utilities"
   ]
  },
  {
   "cell_type": "markdown",
   "metadata": {},
   "source": [
    "## Import packages"
   ]
  },
  {
   "cell_type": "code",
   "execution_count": null,
   "metadata": {},
   "outputs": [],
   "source": [
    "import pathlib\n",
    "import dic_analysis.io\n",
    "import tqdm\n",
    "import urllib.request\n",
    "import hashlib\n",
    "\n",
    "from matflow import load_workflow\n",
    "from formable.load_response import LoadResponse, LoadResponseSet\n",
    "from formable.levenberg_marquardt import LMFitter\n",
    "from formable.tensile_test import TensileTest\n",
    "from formable.yielding import YieldFunction, animate_yield_function_evolution\n",
    "from plotly import graph_objects\n",
    "from plotly.colors import DEFAULT_PLOTLY_COLORS\n",
    "import pandas as pd\n",
    "import numpy as np\n",
    "from IPython.display import display\n",
    "from ipywidgets import widgets"
   ]
  },
  {
   "cell_type": "markdown",
   "metadata": {
    "toc-hr-collapsed": true,
    "toc-nb-collapsed": true
   },
   "source": [
    "## Utility functions"
   ]
  },
  {
   "cell_type": "code",
   "execution_count": null,
   "metadata": {},
   "outputs": [],
   "source": [
    "FIG_EXPORT_DIR = pathlib.Path('generated_figures')\n",
    "FIG_EXPORT_DIR.mkdir(exist_ok=True)\n",
    "\n",
    "PLASTIC_TABLES_DIR = Path('generated_plastic_tables')\n",
    "PLASTIC_TABLES_DIR.mkdir(exist_ok=True)\n",
    "\n",
    "SHEET_DIRS = {'x': 'RD', 'y': 'TD', 'z': 'ND'}"
   ]
  },
  {
   "cell_type": "code",
   "execution_count": null,
   "metadata": {},
   "outputs": [],
   "source": [
    "def pretty_print_single_crystal_parameters(parameters):\n",
    "    'Pretty print the single crystal parameter dict'\n",
    "    out = (\n",
    "        f'Hardening coefficient,   h_0_sl_sl: {parameters[\"Al\"][\"h_0_sl_sl\"]/1e6:>7.1f} MPa\\n'\n",
    "        f'Initial CRSS,              xi_0_sl: {parameters[\"Al\"][\"xi_0_sl\"][0]/1e6:>7.1f} MPa\\n'\n",
    "        f'Final CRSS,              xi_inf_sl: {parameters[\"Al\"][\"xi_inf_sl\"][0]/1e6:>7.1f} MPa\\n'\n",
    "        f'Hardening exponent,           a_sl: {parameters[\"Al\"][\"a_sl\"]:>7.1f}\\n'\n",
    "    )\n",
    "    print(out)\n",
    "    \n",
    "def plot_static_figure_single_crystal_fitting(lm_fitter):\n",
    "    data = [\n",
    "        {\n",
    "            'x': lm_fitter.optimisations[0].get_exp_strain(),\n",
    "            'y': lm_fitter.optimisations[0].get_exp_stress() / 1e6,\n",
    "            'mode': 'lines',\n",
    "            'name': 'Experimental',\n",
    "            'line': {\n",
    "                'dash': 'dash',\n",
    "                'width': 3,\n",
    "                'color': DEFAULT_PLOTLY_COLORS[0],\n",
    "            },            \n",
    "        },\n",
    "        {\n",
    "            'x': lm_fitter.optimisations[0].get_sim_strain(0),\n",
    "            'y': lm_fitter.optimisations[0].get_sim_stress(0) / 1e6,\n",
    "            'mode': 'lines',\n",
    "            'line': {\n",
    "                'dash': 'dot',\n",
    "                'width': 1,\n",
    "                'color': DEFAULT_PLOTLY_COLORS[1],\n",
    "            },\n",
    "            'name': 'Sim. initial iter.', \n",
    "        },\n",
    "        {\n",
    "            'x': lm_fitter.optimisations[-1].get_sim_strain(0),\n",
    "            'y': lm_fitter.optimisations[-1].get_sim_stress(0) / 1e6,\n",
    "            'mode': 'lines',\n",
    "            'name': 'Sim. final iter.',\n",
    "            'line': {\n",
    "                'width': 1,\n",
    "                'color': DEFAULT_PLOTLY_COLORS[1],\n",
    "            },            \n",
    "        }\n",
    "    ]\n",
    "    layout = {\n",
    "        'width': 280,\n",
    "        'height': 250,\n",
    "        'margin': {'t': 20, 'b': 20, 'l': 20, 'r': 20},\n",
    "        'template': 'simple_white',\n",
    "        'xaxis': {\n",
    "            'title': r'True strain, \\strain{}',\n",
    "            'range': [\n",
    "                -0.01,\n",
    "                lm_fitter.optimisations[0].get_exp_strain()[-1],\n",
    "            ],\n",
    "            'mirror': 'ticks',\n",
    "            'ticks': 'inside',\n",
    "            'dtick': 0.05,\n",
    "            'tickformat': '.2f',\n",
    "        },\n",
    "        'yaxis': {\n",
    "            'title': r'True stress, \\stress{} (\\MPa)',\n",
    "            'mirror': 'ticks',\n",
    "            'ticks': 'inside',\n",
    "            'range': [0, 310],\n",
    "        },\n",
    "        'legend': {\n",
    "            'x': 0.95,\n",
    "            'y': 0.05,\n",
    "            'xanchor': 'right',\n",
    "            'yanchor': 'bottom',\n",
    "            'tracegroupgap': 0,\n",
    "        },\n",
    "    }\n",
    "    fig = graph_objects.Figure(data=data, layout=layout)    \n",
    "    return fig\n",
    "\n",
    "def plot_static_figure_yield_function_type_comparison(all_load_responses, yield_point):    \n",
    "    yld_funcs_subset = []\n",
    "    for resp in all_load_responses:\n",
    "        yield_function_idx = np.where(resp.yield_point_criteria[0].values[0] == yield_point)[0][0]\n",
    "        yld_funcs_subset.append(\n",
    "            resp.fitted_yield_functions[yield_function_idx]['yield_function']\n",
    "        )    \n",
    "    plane = [0, 0, 1]\n",
    "    fig_wig = YieldFunction.compare_2D(yld_funcs_subset, plane)\n",
    "    fig_wig.layout.annotations = () # remove annotations    \n",
    "    \n",
    "    line_styles = {\n",
    "        'Hill1948': {'dash': 'dash'},\n",
    "        'Barlat_Yld91': {'dash': 'dot'},\n",
    "        'Barlat_Yld2004_18p': {'dash': 'solid'},\n",
    "    }\n",
    "    for idx, trace in enumerate(fig_wig.data):\n",
    "        if 'VonMises' in trace.name:\n",
    "            new_name = 'Von Mises'\n",
    "        elif 'Barlat_Yld91' in trace.name:\n",
    "            new_name = 'Barlat Yld91'\n",
    "            trace.line.update(line_styles['Barlat_Yld91'])\n",
    "        elif 'Barlat_Yld2000_2D' in trace.name:\n",
    "            new_name = 'Barlat Yld2000-2D'\n",
    "        elif 'Barlat_Yld2004_18p' in trace.name:\n",
    "            new_name = 'Barlat Yld2004-18p'\n",
    "            trace.line.update(line_styles['Barlat_Yld2004_18p'])\n",
    "        elif 'Hill1979' in trace.name:\n",
    "            new_name = 'Hill 1979'\n",
    "        elif 'Hill1948' in trace.name:\n",
    "            new_name = 'Hill 1948'\n",
    "            trace.line.update(line_styles['Hill1948'])\n",
    "        else:\n",
    "            new_name = trace.name\n",
    "        \n",
    "        trace.name = new_name\n",
    "        trace.line.update({\n",
    "            'color': DEFAULT_PLOTLY_COLORS[idx],\n",
    "            'width': 1,\n",
    "        })\n",
    "        \n",
    "    fig_wig.layout.update({\n",
    "        'width': 280,\n",
    "        'height': 280,\n",
    "        'margin': {'t': 20, 'b': 20, 'l': 20, 'r': 20},\n",
    "        'template': 'simple_white',\n",
    "        'xaxis': {\n",
    "            'mirror': 'ticks',\n",
    "            'ticks': 'inside',\n",
    "            'range': [0.1, 1.2],\n",
    "            'dtick': 0.2,\n",
    "            'title': r'\\yldFuncFigXLab{}',\n",
    "            'tickformat': '.1f',\n",
    "        },\n",
    "        'yaxis': {\n",
    "            'mirror': 'ticks',\n",
    "            'ticks': 'inside',\n",
    "            'range': [0.1, 1.2],\n",
    "            'dtick': 0.2,\n",
    "            'title': r'\\yldFuncFigYLab{}',\n",
    "            'tickformat': '.1f',\n",
    "        },\n",
    "        'legend': {\n",
    "            'x': 0.07,\n",
    "            'y': 0.1,\n",
    "            'xanchor': 'left',\n",
    "            'yanchor': 'bottom',\n",
    "            'bgcolor': 'rgba(255, 255, 255, 0)',\n",
    "            'tracegroupgap': 0,\n",
    "        }\n",
    "    })    \n",
    "    return fig_wig\n",
    "\n",
    "def compare_yield_function_yield_points(load_response_set, ypc_slice, **kwargs):\n",
    "    yld_funcs_subset = []\n",
    "    yld_points = []\n",
    "    for i in load_response_set.fitted_yield_functions[ypc_slice]:\n",
    "        yld_funcs_subset.append(i['yield_function'])\n",
    "        yld_points.append(load_response_set.yield_point_criteria[i['YPC_idx']].values[0, i['YPC_value_idx']])         \n",
    "\n",
    "    return YieldFunction.compare_2D(yld_funcs_subset, legend_text=yld_points, **kwargs)\n",
    "\n",
    "def compare_yield_function_types(all_load_responses, yield_function_idx=0, **kwargs):\n",
    "    yld_funcs_subset = [\n",
    "        resp.fitted_yield_functions[yield_function_idx]['yield_function']\n",
    "        for resp in all_load_responses\n",
    "    ]\n",
    "    \n",
    "    return YieldFunction.compare_2D(yld_funcs_subset, **kwargs)    \n",
    "\n",
    "def show_all_fitted_yield_function_parameters(all_load_responses):\n",
    "    all_fitted_params = {}\n",
    "    for yld_func_type_idx in all_load_responses:\n",
    "        yld_func_type_fitted_params = []\n",
    "        for i in yld_func_type_idx.fitted_yield_functions:\n",
    "            yld_point = all_load_responses[1].yield_point_criteria[i['YPC_idx']].values[0, i['YPC_value_idx']]\n",
    "            yld_func_type_fitted_params.append({'yield_point': yld_point, **i['yield_function'].get_parameters()})\n",
    "        all_fitted_params.update({i['yield_function'].name: yld_func_type_fitted_params})\n",
    "\n",
    "    tab_children = []\n",
    "    tab_titles = []\n",
    "    for yld_func_name, fitted_vals in all_fitted_params.items():\n",
    "        df = pd.DataFrame(fitted_vals)    \n",
    "        out_widget = widgets.Output()\n",
    "        tab_children.append(out_widget)\n",
    "        tab_titles.append(yld_func_name)\n",
    "        with out_widget:\n",
    "            display(df)\n",
    "\n",
    "    tab = widgets.Tab()\n",
    "    tab.children = tab_children\n",
    "    for i in range(len(tab_titles)):\n",
    "        tab.set_title(i, tab_titles[i])\n",
    "    display(tab)\n",
    "    return all_fitted_params\n",
    "\n",
    "def collect_hardening_data(sim_tasks, yield_stress):\n",
    "        \n",
    "    # Collect interpolated stresses to feed to the FE Marciniak-Kuczynski model:\n",
    "    strain_paths = list(sim_tasks.keys())\n",
    "    interp_strains = np.linspace(0, 0.29, num=40)\n",
    "    \n",
    "    hardening_data = {k: None for k in strain_paths}\n",
    "    for strain_path, sim_task in sim_tasks.items():    \n",
    "        strain = sim_task.elements[0].outputs.volume_element_response['vol_avg_equivalent_plastic_strain']['data']\n",
    "        stress = sim_task.elements[0].outputs.volume_element_response['vol_avg_equivalent_stress']['data']\n",
    "        hardening_data[strain_path] = {\n",
    "            'strain': strain,\n",
    "            'stress': stress,\n",
    "            'interpolated_strain': interp_strains,\n",
    "            'interpolated_stress': np.interp(interp_strains, strain, stress),\n",
    "            'hardening_rate': np.gradient(stress),\n",
    "        }\n",
    "        # Set the first interpolation value (zero-strain) to the approximate yield stress:\n",
    "        hardening_data[strain_path]['interpolated_stress'][0] = yield_stress\n",
    "        \n",
    "    return hardening_data\n",
    "\n",
    "def show_interpolated_plastic_stress_strain_data(hardening_data):\n",
    "    interpolated_hardening_data = []\n",
    "    column_headers = []\n",
    "    for k, v in hardening_data.items():\n",
    "        interpolated_hardening_data.append(v['interpolated_strain'])\n",
    "        interpolated_hardening_data.append(v['interpolated_stress'])\n",
    "        column_headers.extend([(k, 'interpolated_strain'), (k, 'interpolated_stress')])\n",
    "    interpolated_hardening_data = np.array(interpolated_hardening_data)\n",
    "    df = pd.DataFrame(data=interpolated_hardening_data.T, columns=pd.MultiIndex.from_tuples(column_headers))\n",
    "    display(df)\n",
    "    return df\n",
    "\n",
    "def get_latex_yield_func_params(yield_func_name, yield_func_param_vals, val_format='.4f', pad_to=18):\n",
    "    \"\"\"Format yield function parameter symbols and values, given some macros defined\n",
    "    in the manuscript.\n",
    "    \"\"\"\n",
    "    \n",
    "    vals = []\n",
    "    latex_keys = []\n",
    "    for k, v in yield_func_param_vals.items():            \n",
    "        \n",
    "        if k in ['yield_point', 'equivalent_stress', 'exponent']:\n",
    "            continue\n",
    "            \n",
    "        vals.append(f'{v:{val_format}}')\n",
    "        \n",
    "        if yield_func_name == 'Barlat_Yld2004_18p':\n",
    "            if '_p_' in k:\n",
    "                new_k = f'\\\\yldFuncLinTransComp{{\\\\myprime}}{{{k[-2:]}}}'\n",
    "            elif '_dp_' in k:\n",
    "                new_k = f'\\\\yldFuncLinTransComp{{\\\\mydprime}}{{{k[-2:]}}}'\n",
    "            else:\n",
    "                raise ValueError(k)\n",
    "            latex_keys.append(new_k)\n",
    "                    \n",
    "        elif yield_func_name == 'Barlat_Yld91':\n",
    "            new_k = f'${k.upper()}$'\n",
    "            latex_keys.append(new_k)\n",
    "            \n",
    "        elif yield_func_name == 'Hill1948':\n",
    "            new_k = '$' + k + '_\\\\mathrm{h}$'\n",
    "            latex_keys.append(new_k)            \n",
    "\n",
    "        else:\n",
    "            raise ValueError(f'Unknown yield_func_name: {yield_func_name}')\n",
    "    \n",
    "    if len(latex_keys) < pad_to:\n",
    "        latex_keys += [''] * (pad_to - len(latex_keys))\n",
    "        vals += ['-'] * (pad_to - len(vals))\n",
    "    \n",
    "    return np.array([latex_keys, vals])\n",
    "\n",
    "def show_FLC(FLC):\n",
    "    plt_data = []\n",
    "    for strain_path_i in FLC['strain_paths']:\n",
    "        name = f'BCs: {strain_path_i[\"displacement_BCs\"]}; Groove angle: {strain_path_i[\"groove_angle_deg\"]}'\n",
    "        if strain_path_i['strain'] is None:\n",
    "            continue\n",
    "        plt_data.append({\n",
    "            'x': strain_path_i['strain'][0],\n",
    "            'y': strain_path_i['strain'][1],\n",
    "            'mode': 'markers',\n",
    "            'name': name,\n",
    "        })\n",
    "\n",
    "    plt_data.append({\n",
    "        'x': FLC['forming_limits'][0],\n",
    "        'y': FLC['forming_limits'][1],\n",
    "        'mode': 'lines',\n",
    "        'name': 'Forming limit',\n",
    "    })\n",
    "\n",
    "    fig_wig = graph_objects.FigureWidget(\n",
    "        data=plt_data,\n",
    "        layout={\n",
    "            'width': 800,\n",
    "            'xaxis': {\n",
    "                'range': [-0.5, 0.5],\n",
    "                'title': 'Minor strain',\n",
    "            },\n",
    "            'yaxis': {\n",
    "                'range': [0, 0.5],\n",
    "                'title': 'Major strain',\n",
    "                'scaleanchor': 'x',\n",
    "            }\n",
    "        },\n",
    "    )\n",
    "    return fig_wig\n",
    "\n",
    "def get_workflow_from_zenodo(root_folder, url, md5, name):\n",
    "    \"\"\"Download the workflow HDF5 file if it is not already present in root_folder.\"\"\"\n",
    "    root_folder = pathlib.Path(root_folder)\n",
    "\n",
    "    data_folder = root_folder / \"workflows\"\n",
    "    if not data_folder.is_dir():\n",
    "        data_folder.mkdir()\n",
    "    workflow_file = data_folder / name\n",
    "    if not workflow_file.exists():\n",
    "        with tqdm.tqdm(desc=f\"Downloading workflow \\\"{name}\\\"\", unit=\"bytes\", unit_scale=True) as t:\n",
    "            reporthook = dic_analysis.io.tqdm_hook(t)\n",
    "            urllib.request.urlretrieve(url, workflow_file, reporthook=reporthook)\n",
    "        if md5:\n",
    "            if not dic_analysis.io.validate_checksum(workflow_file, md5):\n",
    "                raise AssertionError(\"MD5 does not match: workflow file is corrupt. Delete workflow file and retry download.\")\n",
    "            else:\n",
    "                print(\"MD5 validated. Download complete.\")\n",
    "                \n",
    "    return workflow_file"
   ]
  },
  {
   "cell_type": "markdown",
   "metadata": {},
   "source": [
    "## Download workflow HDF5 files from Zenodo"
   ]
  },
  {
   "cell_type": "code",
   "execution_count": null,
   "metadata": {},
   "outputs": [],
   "source": [
    "all_workflow_paths = []\n",
    "for wk_name, wk_info in dic_analysis.io.read_data_yaml('../data.yaml')['modelling_workflows'].items():\n",
    "    wk_path_i = get_workflow_from_zenodo(root_folder='', name=wk_name + '.hdf5', **wk_info)    \n",
    "    all_workflow_paths.append(wk_path_i)\n",
    "(\n",
    "    wkflow_1,\n",
    "    wkflow_2,\n",
    "    wkflow_3,\n",
    "    wkflow_4,\n",
    "    wkflow_5,\n",
    ") = (\n",
    "    load_workflow(i, full_path=True) for i in all_workflow_paths\n",
    ")\n",
    "    "
   ]
  },
  {
   "cell_type": "markdown",
   "metadata": {},
   "source": [
    "## Workflow 1: Generate volume element"
   ]
  },
  {
   "cell_type": "code",
   "execution_count": null,
   "metadata": {},
   "outputs": [],
   "source": [
    "print(wkflow_1)"
   ]
  },
  {
   "cell_type": "markdown",
   "metadata": {},
   "source": [
    "## Workflow 2: Fit single-crystal parameters"
   ]
  },
  {
   "cell_type": "code",
   "execution_count": null,
   "metadata": {},
   "outputs": [],
   "source": [
    "print(wkflow_2)"
   ]
  },
  {
   "cell_type": "markdown",
   "metadata": {},
   "source": [
    "#### Show the experimental stress-strain data"
   ]
  },
  {
   "cell_type": "code",
   "execution_count": null,
   "metadata": {},
   "outputs": [],
   "source": [
    "exp_tensile_test_dict = wkflow_2.tasks.get_tensile_test.elements[0].outputs.tensile_test\n",
    "exp_tensile_test = TensileTest(**exp_tensile_test_dict)\n",
    "exp_tensile_test.show(stress_strain_type='true')"
   ]
  },
  {
   "cell_type": "markdown",
   "metadata": {},
   "source": [
    "#### Show the convergence of the stress-strain curve with iterations"
   ]
  },
  {
   "cell_type": "markdown",
   "metadata": {},
   "source": [
    "Different elements in the `optimise_single_crystal_parameters` task correspond to different optimisation iterations. We would like to retrieve the element corresponding to the final iteration:"
   ]
  },
  {
   "cell_type": "code",
   "execution_count": null,
   "metadata": {},
   "outputs": [],
   "source": [
    "final_iteration_element = wkflow_2.tasks.optimise_single_crystal_parameters.get_elements_from_iteration(-1)[0]"
   ]
  },
  {
   "cell_type": "markdown",
   "metadata": {},
   "source": [
    "We can then reconstitue an `LMFitter` object from this element data, enabling a visualisation of the fitting process:"
   ]
  },
  {
   "cell_type": "code",
   "execution_count": null,
   "metadata": {},
   "outputs": [],
   "source": [
    "lm_fitter_dict = final_iteration_element.outputs.levenberg_marquardt_fitter\n",
    "lm_fitter = LMFitter.from_dict(lm_fitter_dict)\n",
    "lm_fitter_fig = lm_fitter.show()\n",
    "lm_fitter_fig"
   ]
  },
  {
   "cell_type": "markdown",
   "metadata": {},
   "source": [
    "#### Produce a static plot for the manuscript"
   ]
  },
  {
   "cell_type": "code",
   "execution_count": null,
   "metadata": {
    "scrolled": false
   },
   "outputs": [],
   "source": [
    "lm_fitter_fig_static = plot_static_figure_single_crystal_fitting(lm_fitter)\n",
    "lm_fitter_fig_static.write_image(str(FIG_EXPORT_DIR.joinpath('singleCrystalFitting.svg')))\n",
    "lm_fitter_fig_static.show(config={'displayModeBar': False})"
   ]
  },
  {
   "cell_type": "markdown",
   "metadata": {},
   "source": [
    "Use inkscape to generate a \"compilable\" figure for inclusion in the manuscript with: `inkscape -D --export-latex --export-type=\"pdf\" singleCrystalFitting.svg`"
   ]
  },
  {
   "cell_type": "markdown",
   "metadata": {},
   "source": [
    "#### Initial trial parameters"
   ]
  },
  {
   "cell_type": "code",
   "execution_count": null,
   "metadata": {},
   "outputs": [],
   "source": [
    "initial_parameters = wkflow_2.tasks.simulate_volume_element_loading.elements[0].inputs.single_crystal_parameters\n",
    "pretty_print_single_crystal_parameters(initial_parameters)"
   ]
  },
  {
   "cell_type": "markdown",
   "metadata": {},
   "source": [
    "#### Final optimised parameters"
   ]
  },
  {
   "cell_type": "markdown",
   "metadata": {},
   "source": [
    "Take the final parameters for which a set of simulations were run. This is the second-to-last iteration, because the last iteration generates new parameters that would be used for simulations in the next iteration."
   ]
  },
  {
   "cell_type": "code",
   "execution_count": null,
   "metadata": {},
   "outputs": [],
   "source": [
    "final_parameters = wkflow_2.tasks.optimise_single_crystal_parameters.get_elements_from_iteration(-2)[0].outputs.single_crystal_parameters\n",
    "pretty_print_single_crystal_parameters(final_parameters)"
   ]
  },
  {
   "cell_type": "markdown",
   "metadata": {},
   "source": [
    "## Workflow 3: Fit yield functions"
   ]
  },
  {
   "cell_type": "code",
   "execution_count": null,
   "metadata": {},
   "outputs": [],
   "source": [
    "print(wkflow_3)"
   ]
  },
  {
   "cell_type": "code",
   "execution_count": null,
   "metadata": {},
   "outputs": [],
   "source": [
    "all_load_responses = [\n",
    "    LoadResponseSet.from_dict(i.outputs.fitted_yield_functions)\n",
    "    for i in wkflow_3.tasks.fit_yield_function.elements\n",
    "]"
   ]
  },
  {
   "cell_type": "markdown",
   "metadata": {},
   "source": [
    "#### Tables of fitted yield function parameters at all yield points"
   ]
  },
  {
   "cell_type": "code",
   "execution_count": null,
   "metadata": {
    "scrolled": true
   },
   "outputs": [],
   "source": [
    "all_fitted_params = show_all_fitted_yield_function_parameters(all_load_responses)"
   ]
  },
  {
   "cell_type": "markdown",
   "metadata": {},
   "source": [
    "#### Example of accessing the parameters from a given yield point fit"
   ]
  },
  {
   "cell_type": "code",
   "execution_count": null,
   "metadata": {},
   "outputs": [],
   "source": [
    "all_fitted_params['Barlat_Yld2004_18p'][10]"
   ]
  },
  {
   "cell_type": "markdown",
   "metadata": {},
   "source": [
    "#### Yield function evolution - animation"
   ]
  },
  {
   "cell_type": "code",
   "execution_count": null,
   "metadata": {},
   "outputs": [],
   "source": [
    "animate_yield_function_evolution(all_load_responses[1:], plane=[0,0,1], normalise=True, sheet_dirs=SHEET_DIRS)"
   ]
  },
  {
   "cell_type": "markdown",
   "metadata": {},
   "source": [
    "#### Produce a static plot for the manuscript"
   ]
  },
  {
   "cell_type": "code",
   "execution_count": null,
   "metadata": {},
   "outputs": [],
   "source": [
    "yield_funcs_fig_static = plot_static_figure_yield_function_type_comparison(all_load_responses[1:], yield_point=0.00275)\n",
    "yield_funcs_fig_static.write_image(str(FIG_EXPORT_DIR.joinpath('yieldFuncComparison.svg')))\n",
    "yield_funcs_fig_static.show(config={'displayModeBar': False})"
   ]
  },
  {
   "cell_type": "markdown",
   "metadata": {},
   "source": [
    "Use inkscape to generate a \"compilable\" figure for inclusion in the manuscript with: `inkscape -D --export-latex --export-type=\"pdf\" yieldFuncComparison.svg`"
   ]
  },
  {
   "cell_type": "markdown",
   "metadata": {},
   "source": [
    "#### Generate a parameter table for manuscript"
   ]
  },
  {
   "cell_type": "code",
   "execution_count": null,
   "metadata": {},
   "outputs": [],
   "source": [
    "# Index 10 is the 0.00275 yield point\n",
    "data = np.concatenate([\n",
    "    get_latex_yield_func_params('Barlat_Yld2004_18p', all_fitted_params['Barlat_Yld2004_18p'][10], pad_to=18),\n",
    "    get_latex_yield_func_params('Barlat_Yld91', all_fitted_params['Barlat_Yld91'][10], pad_to=18),\n",
    "    get_latex_yield_func_params('Hill1948', all_fitted_params['Hill1948'][10], pad_to=18),        \n",
    "]).T\n",
    "print(pd.DataFrame(data=data).to_latex(header=False, index=False, escape=False))"
   ]
  },
  {
   "cell_type": "markdown",
   "metadata": {},
   "source": [
    "#### Yield function evolution at selected yield points"
   ]
  },
  {
   "cell_type": "markdown",
   "metadata": {},
   "source": [
    "##### Von Mises"
   ]
  },
  {
   "cell_type": "code",
   "execution_count": null,
   "metadata": {},
   "outputs": [],
   "source": [
    "compare_yield_function_yield_points(all_load_responses[0], slice(0, -1, 10), plane=[0, 0, 1], sheet_dirs=SHEET_DIRS)"
   ]
  },
  {
   "cell_type": "markdown",
   "metadata": {},
   "source": [
    "##### Hill 1948"
   ]
  },
  {
   "cell_type": "code",
   "execution_count": null,
   "metadata": {},
   "outputs": [],
   "source": [
    "compare_yield_function_yield_points(all_load_responses[1], slice(0, -1, 10), plane=[0, 0, 1], sheet_dirs=SHEET_DIRS)"
   ]
  },
  {
   "cell_type": "markdown",
   "metadata": {},
   "source": [
    "##### Barlat Yld91"
   ]
  },
  {
   "cell_type": "code",
   "execution_count": null,
   "metadata": {},
   "outputs": [],
   "source": [
    "compare_yield_function_yield_points(all_load_responses[2], slice(0, -1, 10), plane=[0, 0, 1], sheet_dirs=SHEET_DIRS)"
   ]
  },
  {
   "cell_type": "markdown",
   "metadata": {},
   "source": [
    "##### Barlat Yld2004-18p"
   ]
  },
  {
   "cell_type": "code",
   "execution_count": null,
   "metadata": {},
   "outputs": [],
   "source": [
    "compare_yield_function_yield_points(all_load_responses[3], slice(0, -1, 10), plane=[0, 0, 1], sheet_dirs=SHEET_DIRS)"
   ]
  },
  {
   "cell_type": "markdown",
   "metadata": {},
   "source": [
    "## Workflow 4: Estimate hardening curves"
   ]
  },
  {
   "cell_type": "code",
   "execution_count": null,
   "metadata": {},
   "outputs": [],
   "source": [
    "print(wkflow_4)"
   ]
  },
  {
   "cell_type": "markdown",
   "metadata": {},
   "source": [
    "#### Plot plastic stress-strain curves and hardening rates for each strain path"
   ]
  },
  {
   "cell_type": "code",
   "execution_count": null,
   "metadata": {},
   "outputs": [],
   "source": []
  },
  {
   "cell_type": "markdown",
   "metadata": {},
   "source": [
    "#### Produce a static plot for the manuscript"
   ]
  },
  {
   "cell_type": "code",
   "execution_count": null,
   "metadata": {},
   "outputs": [],
   "source": []
  },
  {
   "cell_type": "markdown",
   "metadata": {},
   "source": [
    "#### Interpolate values of stress for each strain path"
   ]
  },
  {
   "cell_type": "code",
   "execution_count": null,
   "metadata": {},
   "outputs": [],
   "source": [
    "hardening_curve_tasks = {task.context: task for task in wkflow_4.tasks if task.name == 'simulate_volume_element_loading'}\n",
    "hardening_data = collect_hardening_data(hardening_curve_tasks, yield_stress=95e6)\n",
    "interpolated_data = show_interpolated_plastic_stress_strain_data(hardening_data)"
   ]
  },
  {
   "cell_type": "markdown",
   "metadata": {},
   "source": [
    "#### Write out plastic stress-strain data for Abaqus workflow (Workflow 5)"
   ]
  },
  {
   "cell_type": "code",
   "execution_count": null,
   "metadata": {},
   "outputs": [],
   "source": [
    "for strain_path in hardening_data.keys():\n",
    "    path_i = PLASTIC_TABLES_DIR.joinpath(f'{strain_path}.csv')\n",
    "    with open(path_i, 'w') as file:\n",
    "        file.write('% Plastic table ({} strain path)\\n% True stress (MPa), True strain\\n'.format(strain_path))\n",
    "        ordered_cols_df = interpolated_data.get((strain_path)).reindex(columns=interpolated_data.get((strain_path)).columns[::-1])    \n",
    "        ordered_cols_df['interpolated_stress'] /= 1e6\n",
    "        ordered_cols_df.to_csv(file, header=False, index=False, line_terminator='\\n', float_format='%.5f')"
   ]
  },
  {
   "cell_type": "markdown",
   "metadata": {},
   "source": [
    "## Workflow 5: Simulate Marciniak-Kuzynski analysis"
   ]
  },
  {
   "cell_type": "code",
   "execution_count": null,
   "metadata": {},
   "outputs": [],
   "source": [
    "FLC = wkflow_5.tasks.find_forming_limit_curve.elements[0].outputs.forming_limit_curve"
   ]
  },
  {
   "cell_type": "code",
   "execution_count": null,
   "metadata": {},
   "outputs": [],
   "source": [
    "show_FLC(FLC)"
   ]
  },
  {
   "cell_type": "code",
   "execution_count": null,
   "metadata": {},
   "outputs": [],
   "source": []
  }
 ],
 "metadata": {
  "kernelspec": {
   "name": "python374jvsc74a57bd0ddc0a4c5d74f32d7a739b4d4f931e57835d8f700325394f3d5f78009225893bd",
   "display_name": "Python 3.7.4 64-bit ('matflow_venv': venv)"
  },
  "language_info": {
   "codemirror_mode": {
    "name": "ipython",
    "version": 3
   },
   "file_extension": ".py",
   "mimetype": "text/x-python",
   "name": "python",
   "nbconvert_exporter": "python",
   "pygments_lexer": "ipython3",
   "version": "3.7.4"
  }
 },
 "nbformat": 4,
 "nbformat_minor": 4
}