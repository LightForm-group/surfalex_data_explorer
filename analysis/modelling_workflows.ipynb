{
 "cells": [
  {
   "cell_type": "markdown",
   "metadata": {},
   "source": [
    "# Surfalex formability predictions - MatFlow workflow analysis"
   ]
  },
  {
   "cell_type": "markdown",
   "metadata": {},
   "source": [
    "This Jupyter notebook demonstrates the MatFlow workflows that were generated to investigate the formability of the Surfalex HF Al alloy. Running the cells in this notebook demonstrates how the MatFlow Python API can be used to inspect the results from, and perform further analysis on, MatFlow workflows.\n",
    "\n",
    "This notebook and the five associated MatFlow workflows can be considered supplementary data to the following manuscript:\n",
    "\n",
    "***'A novel integrated framework for reproducible formability predictions using virtual materials testing'***, A. J. Plowman, P. Jedrasiak, T. Jailin, P. Crowther, S. Mishra, P. Shanthraj, J. Quinta da Fonseca, in preparation.\n",
    "\n",
    "In the work described in the above manuscript, we split the workflow into five sub-workflows, as follows:\n",
    "\n",
    "1. Generate a representative volume element (with DAMASK and MTEX)\n",
    "2. Fit single-crystal parameters for calibrated crystal plasticity (CP) simulations (with DAMASK)\n",
    "3. Fit yield functions from full field CP simulations (with DAMASK and formable)\n",
    "4. Estimate hardening curves from full field CP simulations (with DAMASK)\n",
    "5. Perform Marciniak-Kukcyski simulations using the finite-element method (with Abaqus)"
   ]
  },
  {
   "cell_type": "code",
   "execution_count": null,
   "metadata": {},
   "outputs": [],
   "source": [
    "%load_ext autoreload\n",
    "%autoreload 2"
   ]
  },
  {
   "cell_type": "markdown",
   "metadata": {},
   "source": [
    "## Import packages"
   ]
  },
  {
   "cell_type": "code",
   "execution_count": null,
   "metadata": {},
   "outputs": [],
   "source": [
    "import pathlib\n",
    "\n",
    "import numpy as np\n",
    "import pandas as pd\n",
    "from matflow import load_workflow\n",
    "from formable.load_response import LoadResponse, LoadResponseSet\n",
    "from formable.levenberg_marquardt import LMFitter\n",
    "from formable.tensile_test import TensileTest\n",
    "\n",
    "import utilities"
   ]
  },
  {
   "cell_type": "markdown",
   "metadata": {
    "toc-hr-collapsed": true,
    "toc-nb-collapsed": true
   },
   "source": [
    "## Utility functions"
   ]
  },
  {
   "cell_type": "code",
   "execution_count": null,
   "metadata": {},
   "outputs": [],
   "source": [
    "FIG_EXPORT_DIR = pathlib.Path('../results/')\n",
    "PLASTIC_TABLES_DIR = pathlib.Path('../results/simulated_plastic_tables')\n",
    "PLASTIC_TABLES_DIR.mkdir(exist_ok=True, parents=True)\n",
    "\n",
    "SHEET_DIRS = {'x': 'RD', 'y': 'TD', 'z': 'ND'}"
   ]
  },
  {
   "cell_type": "markdown",
   "metadata": {},
   "source": [
    "## Download workflow HDF5 files from Zenodo"
   ]
  },
  {
   "cell_type": "code",
   "execution_count": null,
   "metadata": {},
   "outputs": [],
   "source": [
    "all_workflow_paths = []\n",
    "for wk_name, wk_info in utilities.read_data_yaml('../data/zenodo_URLs.yaml')['modelling_workflows'].items():\n",
    "    wk_path_i = utilities.get_file_from_url('../data/modelling_workflows', name=wk_name + '.hdf5', **wk_info)    \n",
    "    all_workflow_paths.append(wk_path_i)\n",
    "\n",
    "(\n",
    "    wkflow_1,\n",
    "    wkflow_2,\n",
    "    wkflow_3,\n",
    "    wkflow_4,\n",
    "    wkflow_5,\n",
    ") = (\n",
    "    load_workflow(i, full_path=True) for i in all_workflow_paths\n",
    ")\n",
    "    "
   ]
  },
  {
   "cell_type": "markdown",
   "metadata": {},
   "source": [
    "## Workflow 1: Generate volume element"
   ]
  },
  {
   "cell_type": "code",
   "execution_count": null,
   "metadata": {},
   "outputs": [],
   "source": [
    "print(wkflow_1)"
   ]
  },
  {
   "cell_type": "markdown",
   "metadata": {},
   "source": [
    "## Workflow 2: Fit single-crystal parameters"
   ]
  },
  {
   "cell_type": "code",
   "execution_count": null,
   "metadata": {},
   "outputs": [],
   "source": [
    "print(wkflow_2)"
   ]
  },
  {
   "cell_type": "markdown",
   "metadata": {},
   "source": [
    "#### Show the experimental stress-strain data"
   ]
  },
  {
   "cell_type": "code",
   "execution_count": null,
   "metadata": {},
   "outputs": [],
   "source": [
    "exp_tensile_test_dict = wkflow_2.tasks.get_tensile_test.elements[0].outputs.tensile_test\n",
    "exp_tensile_test = TensileTest(**exp_tensile_test_dict)\n",
    "exp_tensile_test.show(stress_strain_type='true')"
   ]
  },
  {
   "cell_type": "markdown",
   "metadata": {},
   "source": [
    "#### Show the convergence of the stress-strain curve with iterations"
   ]
  },
  {
   "cell_type": "markdown",
   "metadata": {},
   "source": [
    "Different elements in the `optimise_single_crystal_parameters` task correspond to different optimisation iterations. We would like to retrieve the element corresponding to the final iteration:"
   ]
  },
  {
   "cell_type": "code",
   "execution_count": null,
   "metadata": {},
   "outputs": [],
   "source": [
    "final_iteration_element = wkflow_2.tasks.optimise_single_crystal_parameters.get_elements_from_iteration(-1)[0]"
   ]
  },
  {
   "cell_type": "markdown",
   "metadata": {},
   "source": [
    "We can then reconstitue an `LMFitter` object from this element data, enabling a visualisation of the fitting process:"
   ]
  },
  {
   "cell_type": "code",
   "execution_count": null,
   "metadata": {},
   "outputs": [],
   "source": [
    "lm_fitter_dict = final_iteration_element.outputs.levenberg_marquardt_fitter\n",
    "lm_fitter = LMFitter.from_dict(lm_fitter_dict)\n",
    "lm_fitter_fig = lm_fitter.show()\n",
    "lm_fitter_fig"
   ]
  },
  {
   "cell_type": "markdown",
   "metadata": {},
   "source": [
    "#### Produce a static plot for the manuscript"
   ]
  },
  {
   "cell_type": "code",
   "execution_count": null,
   "metadata": {
    "scrolled": false
   },
   "outputs": [],
   "source": [
    "lm_fitter_fig_static = utilities.plot_static_figure_single_crystal_fitting(lm_fitter)\n",
    "lm_fitter_fig_static.write_image(str(FIG_EXPORT_DIR.joinpath('singleCrystalFitting.svg')))\n",
    "lm_fitter_fig_static.show(config={'displayModeBar': False})"
   ]
  },
  {
   "cell_type": "markdown",
   "metadata": {},
   "source": [
    "(Then use inkscape to generate a \"compilable\" figure for inclusion in the manuscript with: `inkscape -D --export-latex --export-type=\"pdf\" singleCrystalFitting.svg`)"
   ]
  },
  {
   "cell_type": "markdown",
   "metadata": {},
   "source": [
    "#### Initial trial parameters"
   ]
  },
  {
   "cell_type": "code",
   "execution_count": null,
   "metadata": {},
   "outputs": [],
   "source": [
    "initial_parameters = wkflow_2.tasks.simulate_volume_element_loading.elements[0].inputs.single_crystal_parameters\n",
    "utilities.pretty_print_single_crystal_parameters(initial_parameters)"
   ]
  },
  {
   "cell_type": "markdown",
   "metadata": {},
   "source": [
    "#### Final optimised parameters"
   ]
  },
  {
   "cell_type": "markdown",
   "metadata": {},
   "source": [
    "Take the final parameters for which a set of simulations were run. This is the second-to-last iteration, because the last iteration generates new parameters that would be used for simulations in the next iteration."
   ]
  },
  {
   "cell_type": "code",
   "execution_count": null,
   "metadata": {},
   "outputs": [],
   "source": [
    "final_parameters = wkflow_2.tasks.optimise_single_crystal_parameters.get_elements_from_iteration(-2)[0].outputs.single_crystal_parameters\n",
    "utilities.pretty_print_single_crystal_parameters(final_parameters)"
   ]
  },
  {
   "cell_type": "markdown",
   "metadata": {},
   "source": [
    "## Workflow 3: Fit yield functions"
   ]
  },
  {
   "cell_type": "code",
   "execution_count": null,
   "metadata": {},
   "outputs": [],
   "source": [
    "print(wkflow_3)"
   ]
  },
  {
   "cell_type": "code",
   "execution_count": null,
   "metadata": {},
   "outputs": [],
   "source": [
    "all_load_responses = [\n",
    "    LoadResponseSet.from_dict(i.outputs.fitted_yield_functions)\n",
    "    for i in wkflow_3.tasks.fit_yield_function.elements\n",
    "]"
   ]
  },
  {
   "cell_type": "markdown",
   "metadata": {},
   "source": [
    "#### Tables of fitted yield function parameters at all yield points"
   ]
  },
  {
   "cell_type": "code",
   "execution_count": null,
   "metadata": {
    "scrolled": true
   },
   "outputs": [],
   "source": [
    "all_fitted_params = utilities.show_all_fitted_yield_function_parameters(all_load_responses)"
   ]
  },
  {
   "cell_type": "markdown",
   "metadata": {},
   "source": [
    "#### Example of accessing the parameters from a given yield point fit"
   ]
  },
  {
   "cell_type": "code",
   "execution_count": null,
   "metadata": {},
   "outputs": [],
   "source": [
    "all_fitted_params['Barlat_Yld2004_18p'][10]"
   ]
  },
  {
   "cell_type": "markdown",
   "metadata": {},
   "source": [
    "#### Yield function evolution - animation"
   ]
  },
  {
   "cell_type": "code",
   "execution_count": null,
   "metadata": {},
   "outputs": [],
   "source": [
    "utilities.animate_yield_function_evolution(all_load_responses[1:], plane=[0,0,1], normalise=True, sheet_dirs=SHEET_DIRS)"
   ]
  },
  {
   "cell_type": "markdown",
   "metadata": {},
   "source": [
    "#### Produce a static plot for the manuscript"
   ]
  },
  {
   "cell_type": "code",
   "execution_count": null,
   "metadata": {},
   "outputs": [],
   "source": [
    "yield_funcs_fig_static = utilities.plot_static_figure_yield_function_type_comparison(all_load_responses[1:], yield_point=0.00275)\n",
    "yield_funcs_fig_static.write_image(str(FIG_EXPORT_DIR.joinpath('yieldFuncComparison.svg')))\n",
    "yield_funcs_fig_static.show(config={'displayModeBar': False})"
   ]
  },
  {
   "cell_type": "markdown",
   "metadata": {},
   "source": [
    "(Then use inkscape to generate a \"compilable\" figure for inclusion in the manuscript with: `inkscape -D --export-latex --export-type=\"pdf\" yieldFuncComparison.svg`)"
   ]
  },
  {
   "cell_type": "markdown",
   "metadata": {},
   "source": [
    "#### Generate a parameter table for manuscript"
   ]
  },
  {
   "cell_type": "code",
   "execution_count": null,
   "metadata": {},
   "outputs": [],
   "source": [
    "# Index 10 is the 0.00275 yield point\n",
    "data = np.concatenate([\n",
    "    utilities.get_latex_yield_func_params('Barlat_Yld2004_18p', all_fitted_params['Barlat_Yld2004_18p'][10], pad_to=18),\n",
    "    utilities.get_latex_yield_func_params('Barlat_Yld91', all_fitted_params['Barlat_Yld91'][10], pad_to=18),\n",
    "    utilities.get_latex_yield_func_params('Hill1948', all_fitted_params['Hill1948'][10], pad_to=18),        \n",
    "]).T\n",
    "print(pd.DataFrame(data=data).to_latex(header=False, index=False, escape=False))"
   ]
  },
  {
   "cell_type": "markdown",
   "metadata": {},
   "source": [
    "#### Yield function evolution at selected yield points"
   ]
  },
  {
   "cell_type": "markdown",
   "metadata": {},
   "source": [
    "##### Von Mises"
   ]
  },
  {
   "cell_type": "code",
   "execution_count": null,
   "metadata": {},
   "outputs": [],
   "source": [
    "utilities.compare_yield_function_yield_points(all_load_responses[0], slice(0, -1, 10), plane=[0, 0, 1], sheet_dirs=SHEET_DIRS)"
   ]
  },
  {
   "cell_type": "markdown",
   "metadata": {},
   "source": [
    "##### Hill 1948"
   ]
  },
  {
   "cell_type": "code",
   "execution_count": null,
   "metadata": {},
   "outputs": [],
   "source": [
    "utilities.compare_yield_function_yield_points(all_load_responses[1], slice(0, -1, 10), plane=[0, 0, 1], sheet_dirs=SHEET_DIRS)"
   ]
  },
  {
   "cell_type": "markdown",
   "metadata": {},
   "source": [
    "##### Barlat Yld91"
   ]
  },
  {
   "cell_type": "code",
   "execution_count": null,
   "metadata": {},
   "outputs": [],
   "source": [
    "utilities.compare_yield_function_yield_points(all_load_responses[2], slice(0, -1, 10), plane=[0, 0, 1], sheet_dirs=SHEET_DIRS)"
   ]
  },
  {
   "cell_type": "markdown",
   "metadata": {},
   "source": [
    "##### Barlat Yld2004-18p"
   ]
  },
  {
   "cell_type": "code",
   "execution_count": null,
   "metadata": {},
   "outputs": [],
   "source": [
    "utilities.compare_yield_function_yield_points(all_load_responses[3], slice(0, -1, 10), plane=[0, 0, 1], sheet_dirs=SHEET_DIRS)"
   ]
  },
  {
   "cell_type": "markdown",
   "metadata": {},
   "source": [
    "## Workflow 4: Estimate hardening curves"
   ]
  },
  {
   "cell_type": "code",
   "execution_count": null,
   "metadata": {},
   "outputs": [],
   "source": [
    "print(wkflow_4)"
   ]
  },
  {
   "cell_type": "markdown",
   "metadata": {},
   "source": [
    "#### Plot plastic stress-strain curves and hardening rates for each strain path"
   ]
  },
  {
   "cell_type": "code",
   "execution_count": null,
   "metadata": {},
   "outputs": [],
   "source": []
  },
  {
   "cell_type": "markdown",
   "metadata": {},
   "source": [
    "#### Produce a static plot for the manuscript"
   ]
  },
  {
   "cell_type": "code",
   "execution_count": null,
   "metadata": {},
   "outputs": [],
   "source": []
  },
  {
   "cell_type": "markdown",
   "metadata": {},
   "source": [
    "#### Interpolate values of stress for each strain path"
   ]
  },
  {
   "cell_type": "code",
   "execution_count": null,
   "metadata": {},
   "outputs": [],
   "source": [
    "hardening_curve_tasks = {task.context: task for task in wkflow_4.tasks if task.name == 'simulate_volume_element_loading'}\n",
    "hardening_data = utilities.collect_hardening_data(hardening_curve_tasks, yield_stress=95e6)\n",
    "interpolated_data = utilities.show_interpolated_plastic_stress_strain_data(hardening_data)"
   ]
  },
  {
   "cell_type": "markdown",
   "metadata": {},
   "source": [
    "#### Write out plastic stress-strain data for Abaqus workflow (Workflow 5)"
   ]
  },
  {
   "cell_type": "code",
   "execution_count": null,
   "metadata": {},
   "outputs": [],
   "source": [
    "for strain_path in hardening_data.keys():\n",
    "    path_i = PLASTIC_TABLES_DIR.joinpath(f'{strain_path}.csv')\n",
    "    with open(path_i, 'w') as file:\n",
    "        file.write('% Plastic table ({} strain path)\\n% True stress (MPa), True strain\\n'.format(strain_path))\n",
    "        ordered_cols_df = interpolated_data.get((strain_path)).reindex(columns=interpolated_data.get((strain_path)).columns[::-1])    \n",
    "        ordered_cols_df['interpolated_stress'] /= 1e6\n",
    "        ordered_cols_df.to_csv(file, header=False, index=False, line_terminator='\\n', float_format='%.5f')"
   ]
  },
  {
   "cell_type": "markdown",
   "metadata": {},
   "source": [
    "## Workflow 5: Simulate Marciniak-Kuzynski analysis"
   ]
  },
  {
   "cell_type": "code",
   "execution_count": null,
   "metadata": {},
   "outputs": [],
   "source": [
    "FLC = wkflow_5.tasks.find_forming_limit_curve.elements[0].outputs.forming_limit_curve"
   ]
  },
  {
   "cell_type": "code",
   "execution_count": null,
   "metadata": {},
   "outputs": [],
   "source": [
    "utilities.show_FLC(FLC)"
   ]
  },
  {
   "cell_type": "code",
   "execution_count": null,
   "metadata": {},
   "outputs": [],
   "source": []
  }
 ],
 "metadata": {
  "kernelspec": {
   "display_name": "Python 3",
   "language": "python",
   "name": "python3"
  },
  "language_info": {
   "codemirror_mode": {
    "name": "ipython",
    "version": 3
   },
   "file_extension": ".py",
   "mimetype": "text/x-python",
   "name": "python",
   "nbconvert_exporter": "python",
   "pygments_lexer": "ipython3",
   "version": "3.7.4"
  }
 },
 "nbformat": 4,
 "nbformat_minor": 4
}
