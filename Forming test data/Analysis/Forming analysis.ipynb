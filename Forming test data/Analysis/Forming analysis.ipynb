{
 "cells": [
  {
   "cell_type": "markdown",
   "metadata": {},
   "source": [
    "# Analysis of forming test data\n",
    "\n",
    "This analysis starts with data exported from the GOM-correlate software.\n",
    "\n",
    "Each experiment has 3 sections and each section has data for the major and minor strain. Each experiment is repeated multiple times with multiple sample geometries.\n",
    "\n",
    "First the data are extracted the full strain path from initial stage to the last stage before crack formation and till the onset of  necking, respectively."
   ]
  },
  {
   "cell_type": "code",
   "execution_count": null,
   "metadata": {},
   "outputs": [],
   "source": [
    "from pathlib import Path\n",
    "import math\n",
    "\n",
    "import numpy as np\n",
    "from tqdm.notebook import tqdm\n",
    "import matplotlib.pyplot as plt\n",
    "\n",
    "experiment_directory = \"../Data/Strain data_All stages/\"\n",
    "experiment_paths = list(Path(experiment_directory).glob(\"*\"))\n",
    "print(f\"{len(experiment_paths)} experiments found in experiment directory.\")\n",
    "experiment_names = [path.name for path in experiment_paths]"
   ]
  },
  {
   "cell_type": "code",
   "execution_count": null,
   "metadata": {},
   "outputs": [],
   "source": [
    "# Loop through all of the frames and find the last one before the sample breaks\n",
    "\n",
    "for path in tqdm(experiment_paths):\n",
    "    major_strain_frames = []\n",
    "    data_directory = path / Path(\"section one/major strain/\")\n",
    "    file_list = list(data_directory.glob(\"*.csv\"))\n",
    "    for file in file_list:\n",
    "        data = np.genfromtxt(file, skip_header=6, delimiter=\";\", usecols=[5])\n",
    "        if np.isfinite(data[0]):\n",
    "            major_strain_frames.append(data)\n",
    "        else:\n",
    "            break_time = len(major_strain_frames) + 1\n",
    "            break\n",
    "\n",
    "    # Find the position of the maximum strain as it breaks\n",
    "    max_strain_index = np.argmax(major_strain_frames[-1])\n",
    "\n",
    "    # Now collect strain over time at the breaking point\n",
    "    major_strain = [timestep[max_strain_index] for timestep in major_strain_frames]\n",
    "\n",
    "    # Collect the same data but for minor strains\n",
    "    minor_strain = []\n",
    "\n",
    "    for file_index in range(1, break_time):\n",
    "        file_path = path / Path(f\"section one/minor strain/Section1_{file_index:04d}.csv\")\n",
    "        data = np.genfromtxt(file_path, skip_header=6, delimiter=\";\", usecols=[5])\n",
    "        minor_strain.append(data[max_strain_index])\n",
    "\n",
    "    plt.plot(minor_strain, major_strain, \"-x\")\n",
    "plt.xlabel(\"minor strain\")\n",
    "plt.ylabel(\"major strain\")\n",
    "plt.title(f\"Strain paths for Surflex\")\n",
    "plt.savefig(\"../Results/strain_path_to_break.png\", dpi=200)"
   ]
  },
  {
   "cell_type": "code",
   "execution_count": null,
   "metadata": {},
   "outputs": [],
   "source": []
  }
 ],
 "metadata": {
  "kernelspec": {
   "display_name": "Python 3",
   "language": "python",
   "name": "python3"
  },
  "language_info": {
   "codemirror_mode": {
    "name": "ipython",
    "version": 3
   },
   "file_extension": ".py",
   "mimetype": "text/x-python",
   "name": "python",
   "nbconvert_exporter": "python",
   "pygments_lexer": "ipython3",
   "version": "3.7.2"
  }
 },
 "nbformat": 4,
 "nbformat_minor": 4
}
