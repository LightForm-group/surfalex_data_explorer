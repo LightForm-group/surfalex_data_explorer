{
 "cells": [
  {
   "cell_type": "markdown",
   "metadata": {},
   "source": [
    "# Plotting forming limit curves from forming test data\n",
    "\n",
    "This analysis starts with data exported from the GOM-correlate software.\n",
    "\n",
    "Each experiment has 3 sections and each section has data for the major and minor strain. Each experiment is repeated multiple times with multiple sample geometries.\n",
    "\n",
    "We plot 3 forming limit curves (FLC) from the data using different stopping criteria:\n",
    "* Formation of a crack in the sample\n",
    "* First derivative necking \n",
    "* Second derivative necking.\n",
    "\n",
    "Formation of a crack in the material is determined by inspection of the sample images.\n",
    "\n",
    "First derivative necking determines the necking time to be when the strain in the sample becomes localised. This is determined numerically as the point at which the major strain outside the necking region begins to plateau. \n",
    "\n",
    "Second derivative necking considers the second derivative of the major strain to determine the necking time. The point at which the second derivative devaites from a constant value is consdiered the necking point."
   ]
  },
  {
   "cell_type": "code",
   "execution_count": null,
   "metadata": {},
   "outputs": [],
   "source": [
    "from pathlib import Path\n",
    "import math\n",
    "import pprint\n",
    "import glob\n",
    "from typing import List, Union\n",
    "from datetime import datetime\n",
    "\n",
    "from scipy.signal import find_peaks\n",
    "import lmfit\n",
    "import numpy as np\n",
    "from tqdm.notebook import tqdm\n",
    "import matplotlib.pyplot as plt\n",
    "import pandas as pd\n",
    "from ipywidgets import fixed, interact, Dropdown, IntSlider"
   ]
  },
  {
   "cell_type": "markdown",
   "metadata": {},
   "source": [
    "The fracture time of each sample is determined by visual inspection of the sample images at each time step. The fracture times are listed here, one for each sample."
   ]
  },
  {
   "cell_type": "code",
   "execution_count": null,
   "metadata": {},
   "outputs": [],
   "source": [
    "fracture_times = \\\n",
    "{'Surfalex_10mm_001': 145,\n",
    " 'Surfalex_10mm_002': 137,\n",
    " 'Surfalex_10mm_003': 143,\n",
    " 'Surfalex_20mm_001': 139,\n",
    " 'Surfalex_20mm_002': 134,\n",
    " 'Surfalex_20mm_003': 140,\n",
    " 'Surfalex_40mm_001': 151,\n",
    " 'Surfalex_40mm_002': 151,\n",
    " 'Surfalex_40mm_003': 149,\n",
    " 'Surfalex_60mm_001': 155,\n",
    " 'Surfalex_60mm_002': 153,\n",
    " 'Surfalex_60mm_003': 155,\n",
    " 'Surfalex_120mm_001': 150,\n",
    " 'Surfalex_120mm_002': 149,\n",
    " 'Surfalex_120mm_003': 148,\n",
    " 'Surfalex_full circle_001': 152,\n",
    " 'Surfalex_fullcircle_002': 157,\n",
    " 'Surfalex_fullcircle_003': 151\n",
    "}"
   ]
  },
  {
   "cell_type": "markdown",
   "metadata": {},
   "source": [
    "First we load the DIC data from the files up the the time of fracture for each sample."
   ]
  },
  {
   "cell_type": "code",
   "execution_count": null,
   "metadata": {
    "scrolled": true
   },
   "outputs": [],
   "source": [
    "def get_time_from_file(path: Path) -> datetime:\n",
    "    sample_time_string = pd.read_csv(path, skiprows=2, delimiter=\";\", nrows=1)[\"date\"].values[0]\n",
    "    return datetime.fromisoformat(sample_time_string)\n",
    "\n",
    "\n",
    "def load_data(file_directory: str, fracture_time: int) -> Union[List[np.ndarray], float]:\n",
    "    frames = []\n",
    "    sample_times = []\n",
    "    file_list = glob.glob(f\"{file_directory}/*.csv\")\n",
    "\n",
    "    # We ignore the first frame since it is before the experiment begins and we ignore frames after fracture\n",
    "    start_time = get_time_from_file(Path(file_list[1]))\n",
    "\n",
    "    for index, file_name in enumerate(file_list):\n",
    "        # Add one to index becuase python is zero based but file numbering is one based.\n",
    "        if 1 < index + 1 < fracture_time:\n",
    "            file_path = Path(file_name)\n",
    "            sample_times.append((get_time_from_file(file_path) - start_time).total_seconds())\n",
    "            data = np.genfromtxt(file_path, skip_header=6, delimiter=\";\", usecols=[5])\n",
    "            frames.append(data)\n",
    "    return frames, sample_times\n",
    "\n",
    "major_strain_data = {}\n",
    "minor_strain_data = {}\n",
    "frame_times = {}\n",
    "for experiment_name, fracture_time in tqdm(fracture_times.items()):\n",
    "    file_directory = f\"../Data/Strain data_All stages/{experiment_name}/Section one/major strain\"\n",
    "    major_strain_data[experiment_name], time = load_data(file_directory, fracture_time)    \n",
    "    frame_times[experiment_name] = time\n",
    "    \n",
    "    file_directory = f\"../Data/Strain data_All stages/{experiment_name}/Section one/minor strain\"\n",
    "    minor_strain_data[experiment_name], _ = load_data(file_directory, fracture_time)"
   ]
  },
  {
   "cell_type": "markdown",
   "metadata": {},
   "source": [
    "## 1). FLC from crack formation"
   ]
  },
  {
   "cell_type": "code",
   "execution_count": null,
   "metadata": {},
   "outputs": [],
   "source": [
    "for experiment_name, fracture_time in fracture_times.items():\n",
    "    # Find the position of the maximum strain as it breaks. \n",
    "    max_strain_index = np.argmax(major_strain_data[experiment_name][-1])\n",
    "\n",
    "    # Collect major strain over time at the fracture position\n",
    "    major_strain = [timestep[max_strain_index] for timestep in major_strain_data[experiment_name]]\n",
    "\n",
    "    # Collect the same data but for minor strains\n",
    "    minor_strain = [timestep[max_strain_index] for timestep in minor_strain_data[experiment_name]]\n",
    "\n",
    "    plt.plot(minor_strain[:fracture_time - 1], major_strain[:fracture_time - 1], \"-x\")\n",
    "plt.xlabel(\"minor strain\")\n",
    "plt.ylabel(\"major strain\")\n",
    "plt.title(f\"Strain paths for Surflex to crack formation\")\n",
    "plt.savefig(\"../Results/strain_path_to_break.png\", dpi=200)"
   ]
  },
  {
   "cell_type": "markdown",
   "metadata": {},
   "source": [
    "## 2). FLC from first derivative necking\n",
    "\n",
    "First derivative necking determines the necking time to be when the strain in the sample becomes localised. This is determined numerically as the point at which the major strain outside the necking region begins to plateau.\n",
    "\n",
    "In order to measure this we need to collect the evolution of the strain with time at the necking point and away from the necking point. In these samples the strain localisation is bimodal. We identify the necking point as the point of maximum strain at the timestep before the sample fails, this is typically at one end of the sample. We identify the point away from the neck to be the point of minimum strain between the two peaks at fracture.\n",
    "\n",
    "In the below cells we build the analysis step by step.\n",
    "\n",
    "The first cell shows strain profile at at fracture time. The maximum strain point is marked with a grey line and the minimum strain point is marked by a red line."
   ]
  },
  {
   "cell_type": "code",
   "execution_count": null,
   "metadata": {},
   "outputs": [],
   "source": [
    "def get_max_strain_index(major_strain_data: np.ndarray, experiment_name: str) -> int:\n",
    "    \"\"\"Finds the maximum strain for a strain profile of `experiment_name` at fracture time.\"\"\"\n",
    "    peaks, peak_properties = find_peaks(major_strain_data[experiment_name][-1], distance=50, height=0)\n",
    "    return peaks[np.argmax(peak_properties[\"peak_heights\"])]\n",
    "\n",
    "def get_min_strain_index(major_strain_data: np.ndarray, experiment_name: str) -> int:\n",
    "    \"\"\"Finds the minimum strain between two maxima for a strain profile of `experiment_name` at fracture time.\"\"\"\n",
    "    peaks, peak_properties = find_peaks(major_strain_data[experiment_name][-1], distance=50, height=0)\n",
    "    return np.argmin(major_strain_data[experiment_name][-1][peaks[0]:peaks[1]]) + peaks[0]\n",
    "\n",
    "def plot_strain_max_min(major_strain_data: np.ndarray, experiment_name: str): \n",
    "    \"\"\"Plot the identified minimum and maximum strain on the strain profile.\"\"\"\n",
    "    max_strain_index = get_max_strain_index(major_strain_data, experiment_name)\n",
    "    min_strain_index = get_min_strain_index(major_strain_data, experiment_name)\n",
    "    \n",
    "    plt.plot(major_strain_data[experiment_name][-1])\n",
    "    plt.vlines(max_strain_index, plt.ylim()[0], plt.ylim()[1], alpha=0.5, color=\"k\")\n",
    "    plt.vlines(min_strain_index, plt.ylim()[0], plt.ylim()[1], color=\"r\", alpha=0.5)\n",
    "    plt.title(f\"Strain map of sample: {experiment_name} at fracture time\")\n",
    "    plt.xlabel(\"Vertical sample position\")\n",
    "    plt.ylabel(\"Strain\")\n",
    "    plt.show()\n",
    "\n",
    "interact(plot_strain_max_min,\n",
    "         major_strain_data=fixed(major_strain_data),\n",
    "         experiment_name=list(fracture_times.keys())\n",
    "         );"
   ]
  },
  {
   "cell_type": "markdown",
   "metadata": {},
   "source": [
    "We now collect the major and minor strain over time at the neck and away from the neck. \n",
    "\n",
    "We cut off the data from before 20 seconds since there are some early fluctuations which do not represent necking but make the later fitting harder. We know that the necking does not occur before 20 seconds in any of the samples."
   ]
  },
  {
   "cell_type": "code",
   "execution_count": null,
   "metadata": {},
   "outputs": [],
   "source": [
    "time_cutoff = 20\n",
    "\n",
    "def get_index(value: float, data: Union[list, np.ndarray]) -> int:   \n",
    "    \"\"\"Return the index of the data point, closest to `value` in `data`.\"\"\"\n",
    "    return np.argmin(np.abs(np.array(data) - value))\n",
    "\n",
    "def get_strain(experiment_name: str, frame_times: np.ndarray, major_strain_data: np.ndarray, crop_index: int):\n",
    "    \"\"\"Get strain at the neck and away from the neck. Crop values at inital value `crop_index`.\"\"\"\n",
    "    # Get indices of max and min strain\n",
    "    max_strain_index = get_max_strain_index(major_strain_data, experiment_name)\n",
    "    min_strain_index = get_min_strain_index(major_strain_data, experiment_name)\n",
    "\n",
    "    # Collect strain over time at and away from neck\n",
    "    major_strain_at_neck = [timestep[max_strain_index] for timestep in major_strain_data[experiment_name]]\n",
    "    major_strain_away_neck = [timestep[min_strain_index] for timestep in major_strain_data[experiment_name]]\n",
    "    \n",
    "    return major_strain_at_neck[crop_index:], major_strain_away_neck[crop_index:]\n",
    "\n",
    "def get_frame_times(experiment_name: str, crop_index: int) -> np.ndarray:\n",
    "    \"\"\"Get the time data for `experiment_name` starting at index `crop_index`\"\"\"\n",
    "    return frame_times[experiment_name][crop_index:]\n",
    "\n",
    "def plot_strain_over_time(experiment_name: str, frame_times: np.ndarray, major_strain_data: np.ndarray):\n",
    "    # Get the index of the data point at `time_cutoff` seconds for cropping\n",
    "    crop_index = get_index(frame_times[experiment_name], time_cutoff)\n",
    "    \n",
    "    time = get_frame_times(experiment_name, crop_index)\n",
    "    major_strain_at_neck, major_strain_away_neck = get_strain(experiment_name, frame_times, major_strain_data, crop_index)\n",
    "    \n",
    "    plt.plot(time, major_strain_at_neck, \"x-\", label=\"At neck\")\n",
    "    plt.plot(time, major_strain_away_neck, \"x-\", label=\"Away from neck\")\n",
    "    plt.xlabel(\"Time (s)\")\n",
    "    plt.title(f\"Major strain for experiment: {experiment_name} at two points\")\n",
    "    plt.ylabel(\"Strain\")\n",
    "    plt.legend()\n",
    "    plt.show()\n",
    "\n",
    "interact(plot_strain_over_time,\n",
    "         experiment_name=list(fracture_times.keys()),\n",
    "         frame_times=fixed(frame_times),\n",
    "         major_strain_data=fixed(major_strain_data)\n",
    "        );"
   ]
  },
  {
   "cell_type": "markdown",
   "metadata": {},
   "source": [
    "Although the data looks good, it is a little noisy which becomes problematic when calculating the strain rate. For this reason we fit the strain with a polynomial in order to smooth it. The below plot allows changing of the order of the polynmial fit to see how this affects the fit."
   ]
  },
  {
   "cell_type": "code",
   "execution_count": null,
   "metadata": {},
   "outputs": [],
   "source": [
    "def polynomial_fit(order: int, x_data: np.ndarray, y_data: np.ndarray, plot_fit: bool = False) -> np.ndarray:\n",
    "    \"\"\"Do a polynomial fit of order `order` to the provided x and y data, returning the fit result.\"\"\"\n",
    "    strain_model = lmfit.models.PolynomialModel(order)\n",
    "    params = strain_model.make_params(c0=0, c1=0, c2=0, c3=0, c4=0, c5=0, c6=0, c7=0)\n",
    "    strain_fit = strain_model.fit(y_data, params, x=x_data)\n",
    "    if plot_fit:\n",
    "        strain_fit.plot(numpoints=500)\n",
    "\n",
    "    smoothed_data = strain_fit.eval(x=x_data)\n",
    "    return smoothed_data\n",
    "\n",
    "def fit_strain(experiment_name: str, at_order: int, away_order: int):\n",
    "    crop_index = get_index(frame_times[experiment_name], time_cutoff)\n",
    "    \n",
    "    time = get_frame_times(experiment_name, crop_index)\n",
    "    major_strain_at_neck, major_strain_away_neck = get_strain(experiment_name, frame_times, major_strain_data, crop_index)\n",
    "\n",
    "    smooth_strain_at_neck = polynomial_fit(at_order, time, major_strain_at_neck, plot_fit=True)\n",
    "    smooth_strain_away_neck = polynomial_fit(away_order, time, major_strain_away_neck, plot_fit=True)\n",
    "\n",
    "\n",
    "interact(fit_strain,\n",
    "         experiment_name=list(fracture_times.keys()),\n",
    "         at_order=IntSlider(min=1, value=7, max=7, description=\"Order of polynomial fit for at neck stress\"),\n",
    "         away_order=IntSlider(min=1, value=3, max=7, description=\"Order of polynomial fit for away from neck stress\")\n",
    "        );"
   ]
  },
  {
   "cell_type": "markdown",
   "metadata": {},
   "source": [
    "Now we calulate the first derivative of the strains and the ratio, note that we use an order 7 polynomial fit for the strain at the neck but away from the neck we use an order 3 fit as this is sufficient for a good fit across all data sets.\n",
    "\n",
    "The slider in the interactive graph allows you to find the time at which the sample reaches a certain strain ratio."
   ]
  },
  {
   "cell_type": "code",
   "execution_count": null,
   "metadata": {},
   "outputs": [],
   "source": [
    "def get_strain_ratio(experiment_name: str, frame_times: np.ndarray, major_strain_data: np.ndarray, crop_index: int):\n",
    "    time = get_frame_times(experiment_name, crop_index)\n",
    "    major_strain_at_neck, major_strain_away_neck = get_strain(experiment_name, frame_times, major_strain_data, crop_index)\n",
    "\n",
    "    smooth_strain_at_neck = polynomial_fit(7, time, major_strain_at_neck)\n",
    "    smooth_strain_away_neck = polynomial_fit(3, time, major_strain_away_neck)\n",
    "    \n",
    "    strain_rate_at_neck = np.gradient(smooth_strain_at_neck, time)\n",
    "    strain_rate_away_neck = np.gradient(smooth_strain_away_neck, time)\n",
    "    return strain_rate_at_neck / strain_rate_away_neck\n",
    "\n",
    "def plot_strain_ratio(experiment_name: str, frame_times: np.ndarray, major_strain_data: np.ndarray, cutoff_ratio: int):\n",
    "    \"\"\"Plot the ratio of the strain rate at the fracture point to the strain rate away from it.\"\"\"\n",
    "    crop_index = get_index(frame_times[experiment_name], time_cutoff)\n",
    "    \n",
    "    # X and Y data\n",
    "    time = get_frame_times(experiment_name, crop_index)\n",
    "    ratio = get_strain_ratio(experiment_name, frame_times, major_strain_data, crop_index)\n",
    "    \n",
    "    # Find the point at which we want to cut the FLC\n",
    "    neck_index = get_index(ratio, cutoff_ratio)\n",
    "    neck_time = time[neck_index] \n",
    "\n",
    "    plt.plot(time, ratio, \"x-\")\n",
    "    plt.vlines(neck_time, plt.ylim()[0], plt.ylim()[1])\n",
    "    plt.hlines(cutoff_ratio, plt.xlim()[0], plt.xlim()[1])\n",
    "    plt.title(f\"Ratio of strain rate at neck to strain away\\n from neck for experiment {experiment_name}\")\n",
    "    plt.xlabel(\"Time (s)\")\n",
    "    plt.ylabel(\"Ratio\")\n",
    "    plt.ylim(0, 20)\n",
    "    plt.show()\n",
    "\n",
    "interact(plot_strain_ratio,\n",
    "         experiment_name=list(fracture_times.keys()),\n",
    "         frame_times=fixed(frame_times),\n",
    "         major_strain_data=fixed(major_strain_data),\n",
    "         cutoff_ratio=IntSlider(min=1, value=10, max=20, continuous_update=False)\n",
    "        );"
   ]
  },
  {
   "cell_type": "markdown",
   "metadata": {},
   "source": [
    "We choose a ratio of 10 as the point at which the sample necks. We then use this as the cut off value for determining the forming limit curve."
   ]
  },
  {
   "cell_type": "code",
   "execution_count": null,
   "metadata": {},
   "outputs": [],
   "source": [
    "cutoff_ratio = 10\n",
    "\n",
    "for experiment_name, fracture_time in fracture_times.items():\n",
    "    crop_index = get_index(frame_times[experiment_name], time_cutoff)\n",
    "    \n",
    "    time = get_frame_times(experiment_name, crop_index)\n",
    "    ratio = get_strain_ratio(experiment_name, frame_times, major_strain_data, crop_index)\n",
    "    \n",
    "    # The neck time is for the cropped data so have to add crop index back on to index the raw data\n",
    "    neck_index = get_index(ratio, cutoff_ratio) + crop_index\n",
    "    \n",
    "    # Find the position of the maximum strain as sample breaks. \n",
    "    max_strain_index = np.argmax(major_strain_data[experiment_name][-1])\n",
    "    \n",
    "    # Collect strains over time at the break position\n",
    "    major_strain = [timestep[max_strain_index] for timestep in major_strain_data[experiment_name]]\n",
    "    minor_strain = [timestep[max_strain_index] for timestep in minor_strain_data[experiment_name]]\n",
    "\n",
    "    plt.plot(minor_strain[:neck_index], major_strain[:neck_index], \"-x\")\n",
    "plt.xlabel(\"minor strain\")\n",
    "plt.ylabel(\"major strain\")\n",
    "plt.title(f\"Strain paths for Surfalex to necking\")\n",
    "plt.savefig(\"../Results/strain_path_to_neck.png\", dpi=200)"
   ]
  },
  {
   "cell_type": "code",
   "execution_count": null,
   "metadata": {},
   "outputs": [],
   "source": []
  }
 ],
 "metadata": {
  "kernelspec": {
   "display_name": "Python 3",
   "language": "python",
   "name": "python3"
  },
  "language_info": {
   "codemirror_mode": {
    "name": "ipython",
    "version": 3
   },
   "file_extension": ".py",
   "mimetype": "text/x-python",
   "name": "python",
   "nbconvert_exporter": "python",
   "pygments_lexer": "ipython3",
   "version": "3.8.2"
  }
 },
 "nbformat": 4,
 "nbformat_minor": 4
}
