{
 "cells": [
  {
   "cell_type": "markdown",
   "metadata": {},
   "source": [
    "# Plotting forming limit curves from forming test data\n",
    "\n",
    "This analysis starts with data exported from the GOM-correlate software.\n",
    "\n",
    "Each experiment has 3 sections and each section has data for the major and minor strain. Each experiment is repeated multiple times with multiple sample geometries.\n",
    "\n",
    "We plot 3 forming limit curves (FLC) from the data using different stopping criteria:\n",
    "* Formation of a crack in the sample\n",
    "* First derivative necking \n",
    "* Second derivative necking.\n",
    "\n",
    "Formation of a crack in the material is determined by inspection of the sample images.\n",
    "\n",
    "First derivative necking determines the necking time to be when the strain in the sample becomes localised. This is determined numerically as the point at which the major strain outside the necking region begins to plateau. \n",
    "\n",
    "Second derivative necking considers the second derivative of the major strain to determine the necking time. The point at which the second derivative devaites from a constant value is consdiered the necking point."
   ]
  },
  {
   "cell_type": "code",
   "execution_count": null,
   "metadata": {},
   "outputs": [],
   "source": [
    "from pathlib import Path\n",
    "import math\n",
    "import pprint\n",
    "import glob\n",
    "from typing import List, Union\n",
    "from datetime import datetime\n",
    "\n",
    "from scipy.signal import find_peaks\n",
    "import numpy as np\n",
    "from tqdm.notebook import tqdm\n",
    "import matplotlib.pyplot as plt\n",
    "import pandas as pd"
   ]
  },
  {
   "cell_type": "markdown",
   "metadata": {},
   "source": [
    "The fracture time of each sample is determined by visual inspection of the sample images at each time step. The fracture times are listed here, one for each sample."
   ]
  },
  {
   "cell_type": "code",
   "execution_count": null,
   "metadata": {},
   "outputs": [],
   "source": [
    "fracture_times = \\\n",
    "{'Surfalex_10mm_001': 145,\n",
    " 'Surfalex_10mm_002': 137,\n",
    " 'Surfalex_10mm_003': 143,\n",
    " 'Surfalex_20mm_001': 139,\n",
    " 'Surfalex_20mm_002': 134,\n",
    " 'Surfalex_20mm_003': 140,\n",
    " 'Surfalex_40mm_001': 151,\n",
    " 'Surfalex_40mm_002': 151,\n",
    " 'Surfalex_40mm_003': 149,\n",
    " 'Surfalex_60mm_001': 155,\n",
    " 'Surfalex_60mm_002': 153,\n",
    " 'Surfalex_60mm_003': 155,\n",
    " 'Surfalex_120mm_001': 150,\n",
    " 'Surfalex_120mm_002': 149,\n",
    " 'Surfalex_120mm_003': 148,\n",
    " 'Surfalex_full circle_001': 152,\n",
    " 'Surfalex_fullcircle_002': 157,\n",
    " 'Surfalex_fullcircle_003': 151\n",
    "}"
   ]
  },
  {
   "cell_type": "markdown",
   "metadata": {},
   "source": [
    "First we load the DIC data from the files up the the time of fracture for each sample."
   ]
  },
  {
   "cell_type": "code",
   "execution_count": null,
   "metadata": {
    "scrolled": true
   },
   "outputs": [],
   "source": [
    "def get_time_from_file(path: Path) -> datetime:\n",
    "    sample_time_string = pd.read_csv(path, skiprows=2, delimiter=\";\", nrows=1)[\"date\"].values[0]\n",
    "    return datetime.fromisoformat(sample_time_string)\n",
    "\n",
    "\n",
    "def load_data(file_directory: str, fracture_time: int) -> Union[List[np.ndarray], float]:\n",
    "    frames = []\n",
    "    sample_times = []\n",
    "    file_list = glob.glob(f\"{file_directory}/*.csv\")\n",
    "\n",
    "    # We ignore the first frame since it is before the experiment begins and we ignore frames after fracture\n",
    "    start_time = get_time_from_file(Path(file_list[1]))\n",
    "\n",
    "    for index, file_name in enumerate(file_list):\n",
    "        # Add one to index becuase python is zero based but file numbering is one based.\n",
    "        if 1 < index + 1 < fracture_time:\n",
    "            file_path = Path(file_name)\n",
    "            sample_times.append((get_time_from_file(file_path) - start_time).total_seconds())\n",
    "            data = np.genfromtxt(file_path, skip_header=6, delimiter=\";\", usecols=[5])\n",
    "            frames.append(data)\n",
    "    return frames, sample_times\n",
    "\n",
    "major_strain_data = {}\n",
    "minor_strain_data = {}\n",
    "frame_times = {}\n",
    "for experiment_name, fracture_time in tqdm(fracture_times.items()):\n",
    "    file_directory = f\"../Data/Strain data_All stages/{experiment_name}/Section one/major strain\"\n",
    "    major_strain_data[experiment_name], time = load_data(file_directory, fracture_time)    \n",
    "    frame_times[experiment_name] = time\n",
    "    \n",
    "    file_directory = f\"../Data/Strain data_All stages/{experiment_name}/Section one/minor strain\"\n",
    "    minor_strain_data[experiment_name], _ = load_data(file_directory, fracture_time)"
   ]
  },
  {
   "cell_type": "markdown",
   "metadata": {},
   "source": [
    "## 1). FLC from crack formation"
   ]
  },
  {
   "cell_type": "code",
   "execution_count": null,
   "metadata": {},
   "outputs": [],
   "source": [
    "for experiment_name, fracture_time in fracture_times.items():\n",
    "    # Find the position of the maximum strain as it breaks. \n",
    "    max_strain_index = np.argmax(major_strain_data[experiment_name][-1])\n",
    "\n",
    "    # Collect major strain over time at the fracture position\n",
    "    major_strain = [timestep[max_strain_index] for timestep in major_strain_data[experiment_name]]\n",
    "\n",
    "    # Collect the same data but for minor strains\n",
    "    minor_strain = [timestep[max_strain_index] for timestep in minor_strain_data[experiment_name]]\n",
    "\n",
    "    plt.plot(minor_strain[:fracture_time - 1], major_strain[:fracture_time - 1], \"-x\")\n",
    "plt.xlabel(\"minor strain\")\n",
    "plt.ylabel(\"major strain\")\n",
    "plt.title(f\"Strain paths for Surflex to crack formation\")\n",
    "plt.savefig(\"../Results/strain_path_to_break.png\", dpi=200)"
   ]
  },
  {
   "cell_type": "markdown",
   "metadata": {},
   "source": [
    "## 2). FLC from first derivative necking\n",
    "\n",
    "First derivative necking determines the necking time to be when the strain in the sample becomes localised. This is determined numerically as the point at which the major strain outside the necking region begins to plateau.\n",
    "\n",
    "In order to measure this we need to collect the evolution of the strain with time at the necking point and away from the necking point. We identify the necking point as the point of maximum strain at the timestep before the sample fails. At the point of sample fracture the disribution of strain is bimodal. We identify the point to measure the strain outside the necking region to be the point equidistant between the two strain peaks.\n",
    "\n",
    "The plots below show the peaks in strain marked with grey lines and the median point marked by a red line."
   ]
  },
  {
   "cell_type": "code",
   "execution_count": null,
   "metadata": {},
   "outputs": [],
   "source": [
    "median_strain_index  = {}\n",
    "for experiment_name, fracture_time in fracture_times.items():\n",
    "    # Identify peaks in strain at fracture time\n",
    "    peaks, _ = find_peaks(major_strain_data[experiment_name][-1], distance=50)\n",
    "    median_strain_index[experiment_name] = int(np.median(peaks))\n",
    "    \n",
    "    # Plot the identified peaks to be sure there are two.\n",
    "    plt.plot(major_strain_data[experiment_name][-1])\n",
    "    plt.vlines(peaks, plt.ylim()[0], plt.ylim()[1], alpha=0.5, color=\"k\")\n",
    "    plt.vlines(median_strain_index[experiment_name], plt.ylim()[0], plt.ylim()[1], color=\"r\", alpha=0.5)\n",
    "    plt.title(f\"Strain map of sample: {experiment_name} at fracture time\")\n",
    "    plt.xlabel(\"Vertical sample position\")\n",
    "    plt.ylabel(\"Strain\")\n",
    "    plt.show()"
   ]
  },
  {
   "cell_type": "markdown",
   "metadata": {},
   "source": [
    "We now collect the major and minor strain at the neck and away from the neck. \n",
    "\n",
    "We cut off the data from before 20 seconds since there are some early fluctuations which do not represent necking but make identification of the necking harder and the necking does not occur before 20 seconds in any of the samples."
   ]
  },
  {
   "cell_type": "code",
   "execution_count": null,
   "metadata": {},
   "outputs": [],
   "source": [
    "for experiment_name in fracture_times.keys():\n",
    "    # Find the index of the data point 20 seconds into the experiment\n",
    "    initial_index = np.argmin(np.abs(np.array(frame_times[experiment_name]) - 20))\n",
    "    # Find the position of the maximum strain as it breaks. \n",
    "    # We subtract 2, one to get the frame before fracture and one because the data is zero indexed and the files are 1 indexed.\n",
    "    max_strain_index = np.argmax(major_strain_data[experiment_name][-1])\n",
    "\n",
    "    # Collect strain over time at the fracture position\n",
    "    major_strain_at_neck = [timestep[max_strain_index] for timestep in major_strain_data[experiment_name]]\n",
    "    minor_strain_at_neck = [timestep[max_strain_index] for timestep in minor_strain_data[experiment_name]]\n",
    "\n",
    "    # Collect strain over time away from the fracture position\n",
    "    major_strain_away_neck = [timestep[median_strain_index[experiment_name]] for timestep in major_strain_data[experiment_name]]\n",
    "    minor_strain_away_neck = [timestep[median_strain_index[experiment_name]] for timestep in minor_strain_data[experiment_name]]\n",
    "\n",
    "    #plt.plot(frame_times[experiment_name][initial_index:], major_strain_at_neck[initial_index:], \"x-\", label=\"At neck\")\n",
    "    plt.plot(frame_times[experiment_name][initial_index:], major_strain_away_neck[initial_index:], \"x-\", label=\"Away from neck\")\n",
    "    plt.xlabel(\"Time (s)\")\n",
    "    plt.title(f\"Major strain for experiment: {experiment_name} at two points\")\n",
    "    plt.ylabel(\"Strain\")\n",
    "    plt.legend()\n",
    "    plt.show()\n",
    "    "
   ]
  },
  {
   "cell_type": "markdown",
   "metadata": {},
   "source": [
    "## 3). FLC from second derivative necking"
   ]
  },
  {
   "cell_type": "code",
   "execution_count": null,
   "metadata": {},
   "outputs": [],
   "source": [
    "from ipywidgets import interactive, fixed, Checkbox\n",
    "\n",
    "def plot_major_strain(experiment_name: str, plot_strain: bool, plot_first_derivative: bool, plot_second_derivative: bool):\n",
    "    # Find the position of the maximum strain as it breaks. \n",
    "    fracture_time = fracture_times[experiment_name]\n",
    "    max_strain_index = np.argmax(major_strain_data[experiment_name][-1])\n",
    "\n",
    "    # Collect major strain over time at the fracture position\n",
    "    major_strain = [timestep[max_strain_index] for timestep in major_strain_data[experiment_name]]\n",
    "\n",
    "    if plot_strain:\n",
    "        plt.plot(frame_times[experiment_name][:fracture_time], major_strain[:fracture_time], \"x-\")\n",
    "    if plot_first_derivative or plot_second_derivative:\n",
    "        first_derivative = np.gradient(major_strain, frame_times[experiment_name])\n",
    "    if plot_first_derivative:\n",
    "        plt.plot(frame_times[experiment_name][:fracture_time], first_derivative[:fracture_time], \"x-\")\n",
    "    if plot_second_derivative:\n",
    "        second_derivative = np.gradient(first_derivative, frame_times[experiment_name])\n",
    "        plt.plot(frame_times[experiment_name][:fracture_time], second_derivative[:fracture_time], \"x-\")\n",
    "    plt.xlabel(\"Time (s)\")\n",
    "    plt.ylabel(\"major strain\")\n",
    "    plt.title(f\"{experiment_name}\")\n",
    "    plt.show()\n",
    "    \n",
    "print()\n",
    "    \n",
    "interactive(plot_major_strain,\n",
    "            experiment_name=list(fracture_times.keys()),\n",
    "            plot_strain=Checkbox(),\n",
    "            plot_first_derivative=Checkbox(),\n",
    "            plot_second_derivative=Checkbox())"
   ]
  },
  {
   "cell_type": "code",
   "execution_count": null,
   "metadata": {},
   "outputs": [],
   "source": [
    "for experiment_name, fracture_time in fracture_times.items():\n",
    "    # Find the position of the maximum strain as it breaks. \n",
    "    max_strain_index = np.argmax(major_strain_data[experiment_name][-1])\n",
    "\n",
    "    # Collect major strain over time at the fracture position\n",
    "    major_strain = [timestep[max_strain_index] for timestep in major_strain_data[experiment_name]]\n",
    "    \n",
    "    # Collect the same data but for minor strains\n",
    "    minor_strain = [timestep[max_strain_index] for timestep in minor_strain_data[experiment_name]]\n",
    "\n",
    "    # fit a polynomial\n",
    "\n",
    "    # get the second derivative\n",
    "    first_derivative = np.gradient(fitted_strain, frame_times[experiment_name])\n",
    "    second_derivative = np.gradient(first_derivative, frame_times[experiment_name])\n",
    "\n",
    "    # Find the index where the second derivative reaches 10% of its maximum value.\n",
    "    cut_criterion = 0.1 * np.max(second_derviative)\n",
    "    cut_index = np.argmin(np.abs(second_derviative - cut_criterion))\n",
    "    \n",
    "    plt.plot(minor_strain[:cut_index], major_strain[:cut_index], \"-x\")\n",
    "plt.xlabel(\"minor strain\")\n",
    "plt.ylabel(\"major strain\")\n",
    "plt.title(f\"Strain paths for Surflex to second derivative necking\")\n",
    "plt.savefig(\"../Results/strain_path_to_second_derivative_necking.png\", dpi=200)"
   ]
  },
  {
   "cell_type": "code",
   "execution_count": null,
   "metadata": {},
   "outputs": [],
   "source": []
  }
 ],
 "metadata": {
  "kernelspec": {
   "display_name": "Python 3",
   "language": "python",
   "name": "python3"
  },
  "language_info": {
   "codemirror_mode": {
    "name": "ipython",
    "version": 3
   },
   "file_extension": ".py",
   "mimetype": "text/x-python",
   "name": "python",
   "nbconvert_exporter": "python",
   "pygments_lexer": "ipython3",
   "version": "3.8.2"
  }
 },
 "nbformat": 4,
 "nbformat_minor": 4
}
