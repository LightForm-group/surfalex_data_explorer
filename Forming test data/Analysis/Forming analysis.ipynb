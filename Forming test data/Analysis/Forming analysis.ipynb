{
 "cells": [
  {
   "cell_type": "markdown",
   "metadata": {},
   "source": [
    "# Plotting forming limit curves from forming test data\n",
    "\n",
    "This analysis starts with data exported from the GOM-correlate software.\n",
    "\n",
    "Each experiment has 3 sections and each section has data for the major and minor strain. Each experiment is repeated multiple times with multiple sample geometries.\n",
    "\n",
    "We plot 3 forming limit curves (FLC) from the data using different stopping criteria:\n",
    "* Formation of a crack in the sample\n",
    "* First derivative necking \n",
    "* Second derivative necking.\n",
    "\n",
    "Formation of a crack in the material is determined by inspection of the sample images.\n",
    "\n",
    "First derivative necking determines the necking time to be when the strain in the sample becomes localised. This is determined numerically as the point at which the major strain outside the necking region begins to plateau. \n",
    "\n",
    "Second derivative necking considers the second derivative of the major strain to determine the necking time. The point at which the second derivative devaites from a constant value is consdiered the necking point."
   ]
  },
  {
   "cell_type": "code",
   "execution_count": null,
   "metadata": {},
   "outputs": [],
   "source": [
    "from pathlib import Path\n",
    "import math\n",
    "import pprint\n",
    "import glob\n",
    "from typing import List\n",
    "\n",
    "import numpy as np\n",
    "from tqdm.notebook import tqdm\n",
    "import matplotlib.pyplot as plt"
   ]
  },
  {
   "cell_type": "markdown",
   "metadata": {},
   "source": [
    "First we load the relevent data from the files."
   ]
  },
  {
   "cell_type": "code",
   "execution_count": null,
   "metadata": {
    "scrolled": true
   },
   "outputs": [],
   "source": [
    "# Collect all data\n",
    "def load_data(file_directory: str, fracture_time: int) -> List[np.ndarray]:\n",
    "    frames = []\n",
    "    file_list = glob.glob(f\"{file_directory}/*.csv\")\n",
    "    for file_name in file_list:\n",
    "        file_path = Path(file_name)\n",
    "        data = np.genfromtxt(file_path, skip_header=6, delimiter=\";\", usecols=[5])\n",
    "        frames.append(data)\n",
    "    return frames\n",
    "\n",
    "major_strain_data = {}\n",
    "minor_strain_data = {}\n",
    "for experiment_name, fracture_time in tqdm(fracture_times.items()):\n",
    "    file_directory = f\"../Data/Strain data_All stages/{experiment_name}/Section one/major strain\"\n",
    "    major_strain_data[experiment_name] = load_data(file_directory, fracture_time)    \n",
    "    \n",
    "    file_directory = f\"../Data/Strain data_All stages/{experiment_name}/Section one/minor strain\"\n",
    "    minor_strain_data[experiment_name] = load_data(file_directory, fracture_time)"
   ]
  },
  {
   "cell_type": "markdown",
   "metadata": {},
   "source": [
    "## 1). FLC from crack formation\n",
    "\n",
    "The fracture time of each sample is determined by visual inspection of the sample images at each time step. The fracture times are listed here, one for each sample."
   ]
  },
  {
   "cell_type": "code",
   "execution_count": null,
   "metadata": {},
   "outputs": [],
   "source": [
    "fracture_times = \\\n",
    "{'Surfalex_10mm_001': 145,\n",
    " 'Surfalex_10mm_002': 137,\n",
    " 'Surfalex_10mm_003': 143,\n",
    " 'Surfalex_20mm_001': 139,\n",
    " 'Surfalex_20mm_002': 134,\n",
    " 'Surfalex_20mm_003': 140,\n",
    " 'Surfalex_40mm_001': 151,\n",
    " 'Surfalex_40mm_002': 151,\n",
    " 'Surfalex_40mm_003': 149,\n",
    " 'Surfalex_60mm_001': 155,\n",
    " 'Surfalex_60mm_002': 153,\n",
    " 'Surfalex_60mm_003': 155,\n",
    " 'Surfalex_120mm_001': 150,\n",
    " 'Surfalex_120mm_002': 149,\n",
    " 'Surfalex_120mm_003': 148,\n",
    " 'Surfalex_full circle_001': 152,\n",
    " 'Surfalex_fullcircle_002': 157,\n",
    " 'Surfalex_fullcircle_003': 151\n",
    "}"
   ]
  },
  {
   "cell_type": "code",
   "execution_count": null,
   "metadata": {},
   "outputs": [],
   "source": [
    "for experiment_name, fracture_time in fracture_times.items():\n",
    "    # Find the position of the maximum strain as it breaks. \n",
    "    # We subtract 2, one to get the frame before fracture and one because the data is zero indexed and the files are 1 indexed.\n",
    "    max_strain_index = np.argmax(major_strain_data[experiment_name][fracture_time - 2])\n",
    "\n",
    "    # Collect major strain over time at the fracture position\n",
    "    major_strain = [timestep[max_strain_index] for timestep in major_strain_data[experiment_name]]\n",
    "\n",
    "    # Collect the same data but for minor strains\n",
    "    minor_strain = [timestep[max_strain_index] for timestep in minor_strain_data[experiment_name]]\n",
    "\n",
    "    plt.plot(minor_strain[:fracture_time - 2], major_strain[:fracture_time - 2], \"-x\")\n",
    "plt.xlabel(\"minor strain\")\n",
    "plt.ylabel(\"major strain\")\n",
    "plt.title(f\"Strain paths for Surflex to crack formation\")\n",
    "plt.savefig(\"../Results/strain_path_to_break.png\", dpi=200)"
   ]
  },
  {
   "cell_type": "markdown",
   "metadata": {},
   "source": [
    "## 2). FLC from first derivative necking\n",
    "\n",
    "First derivative necking determines the necking time to be when the strain in the sample becomes localised. This is determined numerically as the point at which the major strain outside the necking region begins to plateau. \n"
   ]
  },
  {
   "cell_type": "code",
   "execution_count": null,
   "metadata": {},
   "outputs": [],
   "source": []
  }
 ],
 "metadata": {
  "kernelspec": {
   "display_name": "Python 3",
   "language": "python",
   "name": "python3"
  },
  "language_info": {
   "codemirror_mode": {
    "name": "ipython",
    "version": 3
   },
   "file_extension": ".py",
   "mimetype": "text/x-python",
   "name": "python",
   "nbconvert_exporter": "python",
   "pygments_lexer": "ipython3",
   "version": "3.8.2"
  }
 },
 "nbformat": 4,
 "nbformat_minor": 4
}
