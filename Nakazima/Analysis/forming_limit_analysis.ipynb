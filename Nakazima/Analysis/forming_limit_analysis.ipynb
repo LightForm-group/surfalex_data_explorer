{
 "cells": [
  {
   "cell_type": "markdown",
   "metadata": {},
   "source": [
    "# Plotting forming limit curves from forming test data\n",
    "\n",
    "This analysis starts with data exported from the GOM-correlate software.\n",
    "\n",
    "Each experiment has 3 sections and each section has data for the major and minor strain. Each experiment is repeated multiple times with multiple sample geometries.\n",
    "\n",
    "We plot 2 forming limit curves (FLC) from the data using two different stopping criteria:\n",
    "* Formation of a crack in the sample\n",
    "* First derivative necking \n",
    "\n",
    "Formation of a crack in the material is determined by inspection of the sample images.\n",
    "\n",
    "First derivative necking determines the necking time to be when the strain in the sample becomes localised. This is determined numerically as the point at which the major strain in the necking region is 10 times greater than the major strain in the non-nekcing section."
   ]
  },
  {
   "cell_type": "code",
   "execution_count": null,
   "metadata": {},
   "outputs": [],
   "source": [
    "from pathlib import Path\n",
    "import glob\n",
    "from typing import List, Union\n",
    "from datetime import datetime\n",
    "\n",
    "from scipy.signal import find_peaks, medfilt\n",
    "import lmfit\n",
    "import numpy as np\n",
    "from tqdm.notebook import tqdm\n",
    "import matplotlib.pyplot as plt\n",
    "import pandas as pd\n",
    "from ipywidgets import fixed, interact, IntSlider, SelectMultiple\n",
    "import dic_analysis.io"
   ]
  },
  {
   "cell_type": "markdown",
   "metadata": {},
   "source": [
    "The fracture time of each sample is determined by visual inspection of the sample images at each time step. The fracture times are listed here, one for each sample."
   ]
  },
  {
   "cell_type": "code",
   "execution_count": null,
   "metadata": {},
   "outputs": [],
   "source": [
    "fracture_times = \\\n",
    "{'Surfalex_10mm_001': 145,\n",
    " 'Surfalex_10mm_002': 137,\n",
    " 'Surfalex_10mm_003': 143,\n",
    " 'Surfalex_20mm_001': 139,\n",
    " 'Surfalex_20mm_002': 134,\n",
    " 'Surfalex_20mm_003': 140,\n",
    " 'Surfalex_40mm_001': 151,\n",
    " 'Surfalex_40mm_002': 151,\n",
    " 'Surfalex_40mm_003': 149,\n",
    " 'Surfalex_60mm_001': 155,\n",
    " 'Surfalex_60mm_002': 153,\n",
    " 'Surfalex_60mm_003': 155,\n",
    " 'Surfalex_120mm_001': 150,\n",
    " 'Surfalex_120mm_002': 149,\n",
    " 'Surfalex_120mm_003': 148,\n",
    " 'Surfalex_full circle_001': 152,\n",
    " 'Surfalex_fullcircle_002': 157,\n",
    " 'Surfalex_fullcircle_003': 151\n",
    "}"
   ]
  },
  {
   "cell_type": "markdown",
   "metadata": {},
   "source": [
    "# Download Data\n",
    "The strain data dervied from the GOM Correlate software (~50 MB) are downloaded to a subfolder in the same directory as this notebook"
   ]
  },
  {
   "cell_type": "code",
   "execution_count": null,
   "metadata": {
    "pycharm": {
     "name": "#%%\n"
    }
   },
   "outputs": [],
   "source": [
    "data_locations = dic_analysis.io.read_data_yaml(\"../../data.yaml\")[\"nakazima_tests\"]\n",
    "print(data_locations)\n",
    "\n",
    "data_folder = dic_analysis.io.get_data(\"../\", data_locations[\"url\"], data_locations[\"md5\"])\n",
    "print(data_folder)\n"
   ]
  },
  {
   "cell_type": "markdown",
   "metadata": {},
   "source": [
    "First we load the DIC data from the files up to the time of fracture for each sample."
   ]
  },
  {
   "cell_type": "code",
   "execution_count": null,
   "metadata": {
    "scrolled": true
   },
   "outputs": [],
   "source": [
    "def get_time_from_file(path: Path) -> datetime:\n",
    "    sample_time_string = pd.read_csv(path, skiprows=2, delimiter=\";\", nrows=1)[\"date\"].values[0]\n",
    "    return datetime.fromisoformat(sample_time_string)\n",
    "\n",
    "\n",
    "def load_data(file_directory: str, fracture_time: int) -> Union[List[np.ndarray], float]:\n",
    "    frames = []\n",
    "    sample_times = []\n",
    "    file_list = sorted(glob.glob(f\"{file_directory}/*.csv\"))\n",
    "\n",
    "    # We ignore the first frame since it is before the experiment begins and we ignore frames after fracture\n",
    "    start_time = get_time_from_file(Path(file_list[1]))\n",
    "\n",
    "    for index, file_name in enumerate(file_list):\n",
    "        # Add one to index becuase python is zero based but file numbering is one based.\n",
    "        if 1 < index + 1 < fracture_time:\n",
    "            file_path = Path(file_name)\n",
    "            sample_times.append((get_time_from_file(file_path) - start_time).total_seconds())\n",
    "            data = np.genfromtxt(file_path, skip_header=6, delimiter=\";\", usecols=[5])\n",
    "            frames.append(data)\n",
    "    return frames, sample_times\n",
    "\n",
    "major_strain_data = {}\n",
    "minor_strain_data = {}\n",
    "frame_times = {}\n",
    "for experiment_name, fracture_time in tqdm(fracture_times.items()):\n",
    "    file_directory = data_folder/ f\"{experiment_name}/Section one/major strain\"\n",
    "    major_strain_data[experiment_name], time = load_data(file_directory, fracture_time)    \n",
    "    frame_times[experiment_name] = time\n",
    "    \n",
    "    file_directory = data_folder / f\"{experiment_name}/Section one/minor strain\"\n",
    "    minor_strain_data[experiment_name], _ = load_data(file_directory, fracture_time)"
   ]
  },
  {
   "cell_type": "markdown",
   "metadata": {},
   "source": [
    "Make a results folder for figure outputs if it does not yet exist"
   ]
  },
  {
   "cell_type": "code",
   "execution_count": null,
   "metadata": {},
   "outputs": [],
   "source": [
    "results_folder = Path(\"../results\")\n",
    "results_folder.mkdir(exist_ok=True)"
   ]
  },
  {
   "cell_type": "markdown",
   "metadata": {},
   "source": [
    "## 1). FLC from crack formation\n",
    "The simplest way to define the stop points for the strain paths is to plot them up to the point of sample fracture. You can selecgt or deselect experiments to be shown in the graph by holding the Ctrl key and clicking on the experiment name in the list."
   ]
  },
  {
   "cell_type": "code",
   "execution_count": null,
   "metadata": {
    "scrolled": false
   },
   "outputs": [],
   "source": [
    "def plot_fracture_fld(names_to_plot: List[str]):\n",
    "    plt.figure(figsize=(10,6))\n",
    "    minor_frac = []\n",
    "    major_frac = []\n",
    "\n",
    "    for experiment_name in names_to_plot:\n",
    "        fracture_time = fracture_times[experiment_name]\n",
    "        # Find the position of the maximum strain as it breaks. \n",
    "        max_strain_index = np.argmax(major_strain_data[experiment_name][-1])\n",
    "\n",
    "        # Collect major strain over time at the fracture position\n",
    "        major_strain = [timestep[max_strain_index] for timestep in major_strain_data[experiment_name]]\n",
    "\n",
    "        # Collect the same data but for minor strains\n",
    "        minor_strain = [timestep[max_strain_index] for timestep in minor_strain_data[experiment_name]]\n",
    "\n",
    "        major_frac.append(major_strain[-1])\n",
    "        minor_frac.append(minor_strain[-1])\n",
    "\n",
    "        plt.plot(minor_strain[:fracture_time - 1], major_strain[:fracture_time - 1], \"o\", label=experiment_name[9:])\n",
    "    plt.xlabel(\"minor strain\")\n",
    "    plt.ylabel(\"major strain\")\n",
    "    plt.title(f\"Strain paths for Surfalex to crack formation\")\n",
    "    plt.legend(loc= 'center right', bbox_to_anchor=(1.22, 0.5))\n",
    "    plt.savefig(results_folder / \"strain_path_to_break.png\", dpi=200)\n",
    "\n",
    "experiment_names = list(fracture_times.keys())\n",
    "interact(plot_fracture_fld, names_to_plot=SelectMultiple(options=experiment_names, value=experiment_names))"
   ]
  },
  {
   "cell_type": "markdown",
   "metadata": {},
   "source": [
    "We can see that the second repeat of the 60mm sample has failed. We will not use this data point for analysis."
   ]
  },
  {
   "cell_type": "code",
   "execution_count": null,
   "metadata": {},
   "outputs": [],
   "source": [
    "del fracture_times[\"Surfalex_60mm_002\"]"
   ]
  },
  {
   "cell_type": "markdown",
   "metadata": {},
   "source": [
    "## 2). FLC from first derivative necking\n",
    "\n",
    "First derivative necking determines the necking time to be when the strain in the sample becomes localised. This is determined numerically as the point at which the major strain in the necking region strongly exceeds the strain in the non-necking region. In this analysis, we set the cut-off point to be where the majpr strain in the necking region is 10 times the major strain in the non-necking region.\n",
    "\n",
    "In order to measure this we need to collect the evolution of the strain with time at the necking point and away from the necking point. In these samples the strain localisation is bimodal. We identify the necking point as the point of maximum strain at the timestep before the sample fails, this is typically at one end of the sample. We identify the point away from the neck to be the point of minimum strain between the two peaks at fracture.\n",
    "\n",
    "In the below cells we build the analysis step by step.\n",
    "\n",
    "The first cell shows strain profile at at fracture time. The maximum strain point is marked with a grey line and the minimum strain point is marked by a red line."
   ]
  },
  {
   "cell_type": "code",
   "execution_count": null,
   "metadata": {},
   "outputs": [],
   "source": [
    "plt.figure(figsize=(10,6))\n",
    "def get_max_strain_index(major_strain_data: np.ndarray, experiment_name: str) -> int:\n",
    "    \"\"\"Finds the maximum strain for a strain profile of `experiment_name` at fracture time.\"\"\"\n",
    "    peaks, peak_properties = find_peaks(major_strain_data[experiment_name][-1], distance=50, height=0)\n",
    "    return peaks[np.argmax(peak_properties[\"peak_heights\"])]\n",
    "\n",
    "def get_min_strain_index(major_strain_data: np.ndarray, experiment_name: str) -> int:\n",
    "    \"\"\"Finds the minimum strain between two maxima for a strain profile of `experiment_name` at fracture time.\"\"\"\n",
    "    peaks, peak_properties = find_peaks(major_strain_data[experiment_name][-1], distance=50, height=0)\n",
    "    return np.argmin(major_strain_data[experiment_name][-1][peaks[0]:peaks[1]]) + peaks[0]\n",
    "\n",
    "def plot_strain_max_min(major_strain_data: np.ndarray, experiment_name: str): \n",
    "    \"\"\"Plot the identified minimum and maximum strain on the strain profile.\"\"\"\n",
    "    max_strain_index = get_max_strain_index(major_strain_data, experiment_name)\n",
    "    min_strain_index = get_min_strain_index(major_strain_data, experiment_name)\n",
    "    \n",
    "    plt.plot(major_strain_data[experiment_name][-1])\n",
    "    plt.vlines(max_strain_index, plt.ylim()[0], plt.ylim()[1], alpha=0.5, color=\"k\")\n",
    "    plt.vlines(min_strain_index, plt.ylim()[0], plt.ylim()[1], color=\"r\", alpha=0.5)\n",
    "    plt.title(f\"Strain map of sample: {experiment_name} at fracture time\")\n",
    "    plt.xlabel(\"Vertical sample position\")\n",
    "    plt.ylabel(\"Strain\")\n",
    "    plt.show()\n",
    "\n",
    "interact(plot_strain_max_min, major_strain_data=fixed(major_strain_data), \n",
    "         experiment_name=list(fracture_times.keys()));"
   ]
  },
  {
   "cell_type": "markdown",
   "metadata": {},
   "source": [
    "We now collect the major and minor strain over time at the neck and away from the neck. \n",
    "\n",
    "We cut off the data from before 20 seconds since there are some early fluctuations which do not represent necking but make the later fitting harder. We know that the necking does not occur before 20 seconds in any of the samples."
   ]
  },
  {
   "cell_type": "code",
   "execution_count": null,
   "metadata": {},
   "outputs": [],
   "source": [
    "plt.figure(figsize=(10,6))\n",
    "time_cutoff = 20\n",
    "\n",
    "def get_index(value: float, data: Union[list, np.ndarray]) -> int:   \n",
    "    \"\"\"Return the index of the data point, closest to `value` in `data`.\"\"\"\n",
    "    return np.argmin(np.abs(np.array(data) - value))\n",
    "\n",
    "def get_strain(experiment_name: str, frame_times: np.ndarray, major_strain_data: np.ndarray, crop_index: int):\n",
    "    \"\"\"Get strain at the neck and away from the neck. Crop values at inital value `crop_index`.\"\"\"\n",
    "    # Get indices of max and min strain\n",
    "    max_strain_index = get_max_strain_index(major_strain_data, experiment_name)\n",
    "    min_strain_index = get_min_strain_index(major_strain_data, experiment_name)\n",
    "\n",
    "    # Collect strain over time at and away from neck\n",
    "    major_strain_at_neck = [timestep[max_strain_index] for timestep in major_strain_data[experiment_name]]\n",
    "    major_strain_away_neck = [timestep[min_strain_index] for timestep in major_strain_data[experiment_name]]\n",
    "    \n",
    "    return major_strain_at_neck[crop_index:], major_strain_away_neck[crop_index:]\n",
    "\n",
    "def get_frame_times(experiment_name: str, crop_index: int) -> np.ndarray:\n",
    "    \"\"\"Get the time data for `experiment_name` starting at index `crop_index`\"\"\"\n",
    "    return frame_times[experiment_name][crop_index:]\n",
    "\n",
    "def plot_strain_over_time(experiment_name: str, frame_times: np.ndarray, major_strain_data: np.ndarray):\n",
    "    # Get the index of the data point at `time_cutoff` seconds for cropping\n",
    "    crop_index = get_index(frame_times[experiment_name], time_cutoff)\n",
    "    \n",
    "    time = get_frame_times(experiment_name, crop_index)\n",
    "    major_strain_at_neck, major_strain_away_neck = get_strain(experiment_name, frame_times, major_strain_data, crop_index)\n",
    "    \n",
    "    plt.plot(time, major_strain_at_neck, \"x\", label=\"At neck\")\n",
    "    plt.plot(time, major_strain_away_neck, \"x\", label=\"Away from neck\")\n",
    "    plt.xlabel(\"Time (s)\")\n",
    "    plt.title(f\"Major strain for experiment: {experiment_name} at two points\")\n",
    "    plt.ylabel(\"Strain\")\n",
    "    plt.legend()\n",
    "    plt.show()\n",
    "\n",
    "interact(plot_strain_over_time,\n",
    "         experiment_name=list(fracture_times.keys()),\n",
    "         frame_times=fixed(frame_times),\n",
    "         major_strain_data=fixed(major_strain_data)\n",
    "        );"
   ]
  },
  {
   "cell_type": "markdown",
   "metadata": {},
   "source": [
    "Although the data looks good, it is a little noisy which becomes problematic when calculating the strain rate. For this reason we filter the data with a median filter to smooth it."
   ]
  },
  {
   "cell_type": "code",
   "execution_count": null,
   "metadata": {},
   "outputs": [],
   "source": [
    "def smooth_strain(experiment_name: str, filter_window: int):\n",
    "    crop_index = get_index(frame_times[experiment_name], time_cutoff)\n",
    "    \n",
    "    time = get_frame_times(experiment_name, crop_index)\n",
    "    major_strain_at_neck, major_strain_away_neck = get_strain(experiment_name, frame_times, major_strain_data, crop_index)\n",
    "\n",
    "    smooth_strain_at_neck = medfilt(major_strain_at_neck, kernel_size=filter_window)\n",
    "    smooth_strain_away_neck = medfilt(major_strain_away_neck, kernel_size=filter_window)\n",
    "\n",
    "    plt.plot(time, major_strain_at_neck)\n",
    "    plt.plot(time, smooth_strain_at_neck)\n",
    "    plt.show()\n",
    "\n",
    "interact(smooth_strain,\n",
    "         experiment_name=list(fracture_times.keys()),\n",
    "         filter_window=IntSlider(min=1, value=3, max=7, description=\"Size of filter window for median filter.\")\n",
    "        );"
   ]
  },
  {
   "cell_type": "markdown",
   "metadata": {},
   "source": [
    "Now we calulate the first derivative of the strains and the ratio, note that we use an order 7 polynomial fit for the strain at the neck but away from the neck we use an order 3 fit as this is sufficient for a good fit across all data sets.\n",
    "\n",
    "The slider in the interactive graph allows you to find the time at which the sample reaches a certain strain ratio."
   ]
  },
  {
   "cell_type": "code",
   "execution_count": null,
   "metadata": {},
   "outputs": [],
   "source": [
    "plt.figure(figsize=(10,6))\n",
    "def get_strain_ratio(experiment_name: str, frame_times: np.ndarray, major_strain_data: np.ndarray, crop_index: int):\n",
    "    time = get_frame_times(experiment_name, crop_index)\n",
    "    major_strain_at_neck, major_strain_away_neck = get_strain(experiment_name, frame_times, major_strain_data, crop_index)\n",
    "\n",
    "    smooth_strain_at_neck = polynomial_fit(7, time, major_strain_at_neck)\n",
    "    smooth_strain_away_neck = polynomial_fit(3, time, major_strain_away_neck)\n",
    "    \n",
    "    strain_rate_at_neck = np.gradient(smooth_strain_at_neck, time)\n",
    "    strain_rate_away_neck = np.gradient(smooth_strain_away_neck, time)\n",
    "    return strain_rate_at_neck / strain_rate_away_neck\n",
    "\n",
    "def plot_strain_ratio(experiment_name: str, frame_times: np.ndarray, major_strain_data: np.ndarray, cutoff_ratio: int):\n",
    "    \"\"\"Plot the ratio of the strain rate at the fracture point to the strain rate away from it.\"\"\"\n",
    "    crop_index = get_index(frame_times[experiment_name], time_cutoff)\n",
    "    \n",
    "    # X and Y data\n",
    "    time = get_frame_times(experiment_name, crop_index)\n",
    "    ratio = get_strain_ratio(experiment_name, frame_times, major_strain_data, crop_index)\n",
    "    \n",
    "    # Find the point at which we want to cut the FLC\n",
    "    neck_index = get_index(ratio, cutoff_ratio)\n",
    "    neck_time = time[neck_index] \n",
    "\n",
    "    plt.plot(time, ratio, \"x\")\n",
    "    plt.vlines(neck_time, plt.ylim()[0], plt.ylim()[1])\n",
    "    plt.hlines(cutoff_ratio, plt.xlim()[0], plt.xlim()[1])\n",
    "    plt.title(f\"Ratio of strain rate at neck to strain away\\n from neck for experiment {experiment_name}\")\n",
    "    plt.xlabel(\"Time (s)\")\n",
    "    plt.ylabel(\"Ratio\")\n",
    "    plt.ylim(0, 20)\n",
    "    plt.show()\n",
    "\n",
    "interact(plot_strain_ratio,\n",
    "         experiment_name=list(fracture_times.keys()),\n",
    "         frame_times=fixed(frame_times),\n",
    "         major_strain_data=fixed(major_strain_data),\n",
    "         cutoff_ratio=IntSlider(min=1, value=10, max=20, continuous_update=True)\n",
    "        );"
   ]
  },
  {
   "cell_type": "markdown",
   "metadata": {},
   "source": [
    "We choose a ratio of 10 as the point at which the sample necks. We then use this as the cut off value for determining the forming limit curve."
   ]
  },
  {
   "cell_type": "code",
   "execution_count": null,
   "metadata": {},
   "outputs": [],
   "source": [
    "cutoff_ratio = 10\n",
    "plt.figure(figsize=(10,5))\n",
    "\n",
    "major_last=[]\n",
    "minor_last=[]\n",
    "\n",
    "for experiment_name, fracture_time in fracture_times.items():\n",
    "    crop_index = get_index(frame_times[experiment_name], time_cutoff)\n",
    "    \n",
    "    time = get_frame_times(experiment_name, crop_index)\n",
    "    ratio = get_strain_ratio(experiment_name, frame_times, major_strain_data, crop_index)\n",
    "    \n",
    "    # The neck time is for the cropped data so have to add crop index back on to index the raw data\n",
    "    neck_index = get_index(ratio, cutoff_ratio) + crop_index\n",
    "    \n",
    "    # Find the position of the maximum strain as sample breaks. \n",
    "    max_strain_index = np.argmax(major_strain_data[experiment_name][-1])\n",
    "    \n",
    "    # Collect strains over time at the break position\n",
    "    major_strain = [timestep[max_strain_index] for timestep in major_strain_data[experiment_name]]\n",
    "    minor_strain = [timestep[max_strain_index] for timestep in minor_strain_data[experiment_name]]\n",
    "    major_last.append(major_strain[neck_index])\n",
    "    minor_last.append(minor_strain[neck_index])\n",
    "\n",
    "    plt.plot(minor_strain[:neck_index], major_strain[:neck_index], \"o\", label=experiment_name[9:])\n",
    "    \n",
    "plt.xlabel(\"minor strain\")\n",
    "plt.ylabel(\"major strain\")\n",
    "plt.title(f\"Strain paths for Surfalex to necking\")\n",
    "plt.legend(loc='center right', bbox_to_anchor=(1.22, 0.5))\n",
    "\n",
    "plt.savefig(results_folder / \"strain_path_to_neck.png\", dpi=200)"
   ]
  },
  {
   "cell_type": "markdown",
   "metadata": {},
   "source": [
    "# Plot FLD\n",
    "\n",
    "We can now plot the experimental data against the data measured by Constellium"
   ]
  },
  {
   "cell_type": "code",
   "execution_count": null,
   "metadata": {
    "scrolled": false
   },
   "outputs": [],
   "source": [
    "def plot_fld(minor_strain, major_strain):\n",
    "    mean_minor = []\n",
    "    mean_major = []\n",
    "    for n in range(0, 16, 3):\n",
    "        mean_minor.append(np.mean(minor_strain[n:n+3])) \n",
    "        mean_major.append(np.mean(major_strain[n:n+3]))\n",
    "    plt.plot(minor_strain, major_strain, 'o')\n",
    "    plt.plot(mean_minor, mean_major, '--')\n",
    "    plt.ylim(0.180, 0.46)\n",
    "    plt.xlim(-0.2, 0.4)\n",
    "    plt.ylabel('Major strain')\n",
    "    plt.xlabel('Minor strain')\n",
    "    ax=plt.gca()\n",
    "    ax.spines['top'].set_visible(False)\n",
    "    ax.spines['right'].set_visible(False)\n",
    "    ax.grid(axis='y', alpha=0.5)\n",
    "    \n",
    "def plot_constellium():\n",
    "    data=np.loadtxt(data_folder / 'constellium/constellium_data.txt')\n",
    "    plt.plot(data[:, 0], data[:, 1])\n",
    "    plt.plot(data[:, 2], data[:, 3])\n",
    "    \n",
    "plt.figure()\n",
    "plot_fld(minor_last, major_last)\n",
    "plot_constellium()\n",
    "plot_fld(minor_frac, major_frac)\n",
    "plt.legend(['All neck', 'Mean neck', 'Surfalex', 'Surfalex HF', 'All fracture', 'Mean fracture'])\n",
    "plt.savefig(results_folder / \"fld.png\", dpi=200)"
   ]
  },
  {
   "cell_type": "code",
   "execution_count": null,
   "metadata": {},
   "outputs": [],
   "source": []
  }
 ],
 "metadata": {
  "kernelspec": {
   "display_name": "Python 3",
   "language": "python",
   "name": "python3"
  },
  "language_info": {
   "codemirror_mode": {
    "name": "ipython",
    "version": 3
   },
   "file_extension": ".py",
   "mimetype": "text/x-python",
   "name": "python",
   "nbconvert_exporter": "python",
   "pygments_lexer": "ipython3",
   "version": "3.9.1"
  }
 },
 "nbformat": 4,
 "nbformat_minor": 4
}
